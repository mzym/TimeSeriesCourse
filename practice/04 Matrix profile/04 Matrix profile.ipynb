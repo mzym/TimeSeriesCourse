{
  "nbformat": 4,
  "nbformat_minor": 0,
  "metadata": {
    "colab": {
      "provenance": [],
      "toc_visible": true
    },
    "kernelspec": {
      "name": "python3",
      "display_name": "Python 3"
    },
    "language_info": {
      "name": "python"
    }
  },
  "cells": [
    {
      "cell_type": "markdown",
      "source": [
        "# Анализ и прогнозирование временных рядов методами искусственного интеллекта\n",
        "\n",
        "## **Практическая работа 4. Матричный профиль. Поиск примитивов на его основе.**"
      ],
      "metadata": {
        "id": "848J-iNspu81"
      }
    },
    {
      "cell_type": "markdown",
      "source": [
        "Смените рабочую директорию с помощью команды `chdir()`. Для этого передайте этой команде свой путь до каталога, в котором содержатся материалы четвертой практической работы. После выполнения этой команды все последующие операции с файлами и каталогами будут производиться относительно указанного каталога."
      ],
      "metadata": {
        "id": "uBwKu7MQ6pnH"
      }
    },
    {
      "cell_type": "code",
      "source": [
        "import os\n",
        "\n",
        "practice_dir_path = 'your/path/of/the/directory/containing/the/fourth/practice/files'\n",
        "os.chdir(practice_dir_path)"
      ],
      "metadata": {
        "id": "pBTFTExaqX03"
      },
      "execution_count": null,
      "outputs": []
    },
    {
      "cell_type": "markdown",
      "source": [
        "Выполните команды, которые автоматически перезагружают все импортированные модули при их изменении."
      ],
      "metadata": {
        "id": "1_QRW2q86rZW"
      }
    },
    {
      "cell_type": "code",
      "source": [
        "%load_ext autoreload\n",
        "%autoreload 2"
      ],
      "metadata": {
        "id": "6emyv2OuZpLO"
      },
      "execution_count": null,
      "outputs": []
    },
    {
      "cell_type": "markdown",
      "source": [
        "Импортируйте библиотеки и модули, необходимые для реализации практической работы 4."
      ],
      "metadata": {
        "id": "pwafRieiBj4V"
      }
    },
    {
      "cell_type": "code",
      "source": [
        "!pip install stumpy"
      ],
      "metadata": {
        "id": "Agb3GWvGWbql"
      },
      "execution_count": null,
      "outputs": []
    },
    {
      "cell_type": "code",
      "source": [
        "import pandas as pd\n",
        "import numpy as np\n",
        "import os\n",
        "import datetime\n",
        "\n",
        "from modules.plots import *\n",
        "from modules.mp import compute_mp\n",
        "from modules.motifs import top_k_motifs\n",
        "from modules.discords import top_k_discords\n",
        "from modules.meter_swapping_detection import *"
      ],
      "metadata": {
        "id": "_9Sf36euo_xp"
      },
      "execution_count": null,
      "outputs": []
    },
    {
      "cell_type": "markdown",
      "source": [
        "## **Часть 1.** Матричный профиль. Поиск мотивов и диссонансов."
      ],
      "metadata": {
        "id": "3hWXaYNkW-Jd"
      }
    },
    {
      "cell_type": "markdown",
      "source": [
        "### **Задача 1.**\n",
        "Загрузите временной ряд, который содержит данные о почасовом потреблении электроэнергии некоторого итальянского города, снимаемые в течение 3 лет, начиная с 1 января 1995 года."
      ],
      "metadata": {
        "id": "qTyoiarh4XFT"
      }
    },
    {
      "cell_type": "code",
      "source": [
        "ts_url = './datasets/part1/italianpowerdemand.csv'\n",
        "\n",
        "ts = pd.read_csv(ts_url, header=None).squeeze().to_numpy()"
      ],
      "metadata": {
        "id": "SZ3azydoo_4j"
      },
      "execution_count": null,
      "outputs": []
    },
    {
      "cell_type": "markdown",
      "source": [
        "Визуализируйте временной ряд, используя функцию `plot_ts()` из модуля *plot.py*."
      ],
      "metadata": {
        "id": "19sRAD-C1EjJ"
      }
    },
    {
      "cell_type": "code",
      "source": [
        "plot_ts(ts, \"Input time series\")"
      ],
      "metadata": {
        "id": "ofcLi1TaXjpL"
      },
      "execution_count": null,
      "outputs": []
    },
    {
      "cell_type": "markdown",
      "source": [
        "Анализ временных рядов на основе матричного профиля осуществляет библиотека [stumpy](https://stumpy.readthedocs.io/en/latest/index.html). Напишите функцию `compute_mp()` в модуле *mp.py*, которая вычисляет матричный профиль временного ряда на основе выбранной вами функции из библиотеки *stumpy*."
      ],
      "metadata": {
        "id": "nsM9BgYUjiRV"
      }
    },
    {
      "cell_type": "code",
      "source": [
        "m = 165\n",
        "excl_zone = int(np.ceil(m / 2))\n",
        "mp = {}\n",
        "\n",
        "# INSERT YOUR CODE"
      ],
      "metadata": {
        "id": "i1OfGheUpAC7"
      },
      "execution_count": null,
      "outputs": []
    },
    {
      "cell_type": "markdown",
      "source": [
        "Визуализируйте найденный матричный профиль ряда."
      ],
      "metadata": {
        "id": "cxNnIDcsjf9M"
      }
    },
    {
      "cell_type": "code",
      "source": [
        "plot_ts(mp['mp'], \"Matrix Profile\")"
      ],
      "metadata": {
        "id": "708AtgfVZSi6"
      },
      "execution_count": null,
      "outputs": []
    },
    {
      "cell_type": "markdown",
      "source": [
        "### **Задача 2.**\n",
        "Выполните поиск top-$k$ мотивов в исходном временном ряде на основе построенного матричного профиля. Для этого реализуйте самостоятельно функцию `top_k_motifs()` в модуле *motifs.py*. Среди найденных мотивов не должно быть тривиальных совпадений, поэтому в `top_k_motifs()` добавьте вызов функции `apply_exclusion_zone()` из модуля *utils.py*."
      ],
      "metadata": {
        "id": "iP2VhH2S4Z6c"
      }
    },
    {
      "cell_type": "code",
      "source": [
        "top_k = 6\n",
        "motifs = {}\n",
        "\n",
        "# INSERT YOUR CODE"
      ],
      "metadata": {
        "id": "DcL9ITEI6YHS"
      },
      "execution_count": null,
      "outputs": []
    },
    {
      "cell_type": "markdown",
      "source": [
        "Выполните визуализацию найденных top-$k$ мотивов с помощью функции `plot_motifs()` из *plots.py*."
      ],
      "metadata": {
        "id": "W5fDQZxE4iPn"
      }
    },
    {
      "cell_type": "code",
      "source": [
        "plot_motifs(mp, motifs)"
      ],
      "metadata": {
        "id": "5xWtssYsKLN-"
      },
      "execution_count": null,
      "outputs": []
    },
    {
      "cell_type": "markdown",
      "source": [
        "![equation.png](data:image/png;base64,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)\n",
        "Проанализируйте и изложите содержательный смысл полученных результатов."
      ],
      "metadata": {
        "id": "prawVSmlIUQr"
      }
    },
    {
      "cell_type": "markdown",
      "source": [
        "*# WRITE YOUR ANSWER*"
      ],
      "metadata": {
        "id": "9Y4zIaIoIUlf"
      }
    },
    {
      "cell_type": "markdown",
      "source": [
        "### **Задача 3.**\n",
        "Реализуйте самостоятельно функцию `top_k_discords()` в модуле *discords.py*, предназначенную для поиска top-$k$ диссонансов во временном ряде на основе матричного профиля. Чтобы исключить попадание тривиальных совпадений в результирующее множество диссонансов воспользуйтесь функцией `apply_exclusion_zone()` из модуля *utils.py*.\n",
        "\n",
        "Загрузите временной ряд *nyc_taxi.csv* из директории *./datasets/part1/*, содежащий данные о среднем числе пассажиров NY такси за осень 2014 года."
      ],
      "metadata": {
        "id": "TPppwxlR4qdU"
      }
    },
    {
      "cell_type": "code",
      "source": [
        "ts_url = './datasets/part1/nyc_taxi.csv'\n",
        "\n",
        "ts = pd.read_csv(ts_url, index_col=0, header=0).squeeze().to_numpy()\n",
        "plot_ts(ts, \"Input time series\")"
      ],
      "metadata": {
        "id": "zqe65SjrWYfk"
      },
      "execution_count": null,
      "outputs": []
    },
    {
      "cell_type": "code",
      "source": [
        "m = 96\n",
        "excl_zone = int(np.ceil(m / 2))\n",
        "mp = {}\n",
        "\n",
        "# INSERT YOUR CODE"
      ],
      "metadata": {
        "id": "Z21Gagpq5VY0"
      },
      "execution_count": null,
      "outputs": []
    },
    {
      "cell_type": "code",
      "source": [
        "top_k = 15\n",
        "discords = {}\n",
        "\n",
        "# INSERT YOUR CODE"
      ],
      "metadata": {
        "id": "I778nahoyDMM"
      },
      "execution_count": null,
      "outputs": []
    },
    {
      "cell_type": "markdown",
      "source": [
        "Выполните визуализацию найденных top-$k$ диссонансов."
      ],
      "metadata": {
        "id": "f1R81qZg4tgy"
      }
    },
    {
      "cell_type": "code",
      "source": [
        "plot_discords(mp, discords)"
      ],
      "metadata": {
        "id": "e2GYVOqQVV-A"
      },
      "execution_count": null,
      "outputs": []
    },
    {
      "cell_type": "markdown",
      "source": [
        "![equation.png](data:image/png;base64,iVBORw0KGgoAAAANSUhEUgAAACAAAAAgCAYAAABzenr0AAAABGdBTUEAALGPC/xhBQAAACBjSFJNAAB6JgAAgIQAAPoAAACA6AAAdTAAAOpgAAA6mAAAF3CculE8AAAACXBIWXMAAA7EAAAOxAGVKw4bAAABy2lUWHRYTUw6Y29tLmFkb2JlLnhtcAAAAAAAPHg6eG1wbWV0YSB4bWxuczp4PSJhZG9iZTpuczptZXRhLyIgeDp4bXB0az0iWE1QIENvcmUgNS40LjAiPgogICA8cmRmOlJERiB4bWxuczpyZGY9Imh0dHA6Ly93d3cudzMub3JnLzE5OTkvMDIvMjItcmRmLXN5bnRheC1ucyMiPgogICAgICA8cmRmOkRlc2NyaXB0aW9uIHJkZjphYm91dD0iIgogICAgICAgICAgICB4bWxuczp0aWZmPSJodHRwOi8vbnMuYWRvYmUuY29tL3RpZmYvMS4wLyIKICAgICAgICAgICAgeG1sbnM6eG1wPSJodHRwOi8vbnMuYWRvYmUuY29tL3hhcC8xLjAvIj4KICAgICAgICAgPHRpZmY6T3JpZW50YXRpb24+MTwvdGlmZjpPcmllbnRhdGlvbj4KICAgICAgICAgPHhtcDpDcmVhdG9yVG9vbD53d3cuaW5rc2NhcGUub3JnPC94bXA6Q3JlYXRvclRvb2w+CiAgICAgIDwvcmRmOkRlc2NyaXB0aW9uPgogICA8L3JkZjpSREY+CjwveDp4bXBtZXRhPgoE1OjLAAAFaklEQVRYCbVXTWhcVRQ+5755MxMNWInRqhBLFxYbUSEUKS7MyoAuuko3/mUSdVFJM0LNQpRM/MNaJA1BxGBirbjprFy4leIiFKyWoMGfggUtFRQhTZvMZN677/idO/PSl/lpZgTv8N7c3/Ode75zzr2PaYciREyFAnOhEMl4rhfNp8njJyWyD5KVO4lF2Hh/iTG/ou9r45kveGbxNxUrQsxMENG6cOshCFBwFLxEjuZyqLxLvr+brCV9JKrKZmOIPH08oiBYJzLv8+zCm7p2JyWw6iZFd64yXhl7i9L+IjTaLeVyKEFoxUK00xHjNhL0RRHGyEa3UsafthO5z1WyWiDeSDOklgrI8LDnzJ4fO0ap1OtSKluJoggiU04QBMO+rsAyThnGGNBE1kuByWSecYrr5OHhljhNKZBCwTjwo88PCJnzpLhE+lJBllMpz/ES2A1huEAq1aUqSBiCGwIPaME12PPAEw/w3OJyLBNj20pzzaamdEfYrCk4fsEsWgZiLfu+B/7PUWSfgC36TcqDM9qntI99KAYFdSV+IWnb0CjaRPtXmm62oVP5crznR3aRmIvg/g4qlXVLFfZSaezsAnnXH+OZYskJrr1AWRfd072E1Y9IaJ3JOOUZyFvmjeUDPP9dEMtOrmuwgANXJU6eWkWIDVElOAXvvsrZbJqMjpoxBQdgGnwjCPGMj2e4CIVY5lwkCHrVCkpdaPuum/23J0GT9QYFdPCGEp9+z7OLOUh5iILwA4xM8tzCBeegxWJFPVwf6ulRilDMnxqeWtEXRlRWujvD2bjt/hOvqkcnOuKqUwLOSCsrzLOnf0f/sa2xYtGhxG26ckW5jyiSe8E7PCaMQJUhzQ9E12DPNTcXQutLk676KdhITRHq7xeNjuSMJK/RxOgS4vJgLRpInRJsfGNOLj6enJdc35SC5AStKyg4ts3A4xiXidF34HQHNUlhSdUiyIwcyVdOXmFQ+xpKWwo0rEKHo1czJRST/Ggeqfg12axEIN2FInvGhyX+gE8suPWFs9tpqwn9zwpsHVATo68iX8wAXEUqpYhYVUN3TxP84el/nNM6nWuoib+2fCAx31VrUWBtPjdpUv5xpOmqvzt4ibgrq8nqDZ5ZeDueWy8jbndsgVggTsdDxnjHIwcOcZr7sEvOZrzIhu85cE3p9RETI9f+O7JA7Mly5Ei3+KVlYO4V6wLfg9ktZ9MeQvEEz3wyCe/HsNMKy1qXziwQn2p+eQgHzd7E4WM5gzMitMUtcGBidzcFV7U6U6C/31kMp/IBOJ4iKAC2Sp6EQUgcTKlQOnzYIB/sCK5TW2ZCHWwoKytOKK5dd+M6hGEHEiHjeVDiEq3yJbemWNyWrBrkJDo6s8CZM1XBxtylaRa79PF4mn5xJyxR+oemsZ7Aa6h2psD0tKMAu/+RKpVrCPjLYOAy7oFrcLpv3ZGrF5E2uI81qQqMW23+gwemkZHbaBcWrNYW7dmzVp+q2xTX+TR3ONUtc2FX1/e/NGNwtYLkn30Ah9C+GCgei9vt/HdEwY0s+MIAEv1HItHDuJMKPlTO4XvhRT7x8UVVohMq2lYgFiwTL/UR2/M4/XrdAQRP5K4MrqDhL7SRepTn56+qddp1xA6i4Gx1bhSMIewUfBMm1nOP8LFSwbfDPpsNhp3ZW5z9zShpX4GVXmwMxUhf7d6n575aUB9c2fV2Gt2HOsqge7fzal+B/r8VSG9+P1dvvu7+Hyd7XEQYuYl/cnNqGdPVd3hVhe4wSYdjXuXl53rgcEvke/dLadNZhW/pYipvLlHZH4QPNL3/t4Jo2wLQVJwj4oaDj58hCuyX2PUms1nHt8NnVC4fcuAdZsJ/AXftccLBDqQ4AAAAAElFTkSuQmCC)\n",
        "Проанализируйте и изложите содержательный смысл полученных результатов."
      ],
      "metadata": {
        "id": "JQPR9JHMH3qt"
      }
    },
    {
      "cell_type": "markdown",
      "source": [
        "*# WRITE YOUR ANSWER*"
      ],
      "metadata": {
        "id": "6ihowl1fH48e"
      }
    },
    {
      "cell_type": "markdown",
      "source": [
        "## **Часть 2.** Сегментация повторяющихся активностей."
      ],
      "metadata": {
        "id": "52Wn93r8lvzv"
      }
    },
    {
      "cell_type": "markdown",
      "source": [
        "### **Задача 4.**\n",
        "\n",
        "Загрузите временной ряд PAMAP *pamap.csv* из директории *./datasets/part2/*, представляющий собой показания закрепленного на человеке виброакселерометра. Данный ряд включает показания, снятые при выполнении человеком трех видов физической активности: ходьба, подъем по лестнице и спуск по лестнице. Необходимо сегментировать временной ряд на основе его матричного профиля для определения того, когда человек шел и когда поднимался/спускался. Поскольку подъем и спуск по лестнице – это схожие действия, поэтому будем считать, что это одна активность.  "
      ],
      "metadata": {
        "id": "83c-Seb02J05"
      }
    },
    {
      "cell_type": "code",
      "source": [
        "ts_url = './datasets/part2/pamap.csv'\n",
        "\n",
        "ts = pd.read_csv(ts_url, header=None).squeeze().to_numpy()"
      ],
      "metadata": {
        "id": "IQEievnVSYZ5"
      },
      "execution_count": null,
      "outputs": []
    },
    {
      "cell_type": "markdown",
      "source": [
        "Визуализируйте временной ряд PAMAP."
      ],
      "metadata": {
        "id": "CcJiFjZdNReI"
      }
    },
    {
      "cell_type": "code",
      "source": [
        "plot_ts(ts, \"Input time series\")"
      ],
      "metadata": {
        "id": "1CV8ncpZSYml"
      },
      "execution_count": null,
      "outputs": []
    },
    {
      "cell_type": "markdown",
      "source": [
        "Найдите и визуализируйте матричный профиль временного ряда."
      ],
      "metadata": {
        "id": "5X7RgWWZNXy6"
      }
    },
    {
      "cell_type": "code",
      "source": [
        "m = 100\n",
        "excl_zone = m\n",
        "mp = {}\n",
        "\n",
        "# INSERT YOUR CODE"
      ],
      "metadata": {
        "id": "1JCQILbxSY01"
      },
      "execution_count": null,
      "outputs": []
    },
    {
      "cell_type": "code",
      "source": [
        "plot_ts(mp['mp'], \"Matrix Profile\")"
      ],
      "metadata": {
        "id": "PrWME8r8SZEh"
      },
      "execution_count": null,
      "outputs": []
    },
    {
      "cell_type": "markdown",
      "source": [
        "Вычислите порог по формуле, которая представлена в презентации [04 Matrix profile.pdf](https://github.com/mzym/TimeSeriesCourse/blob/main/slides/04%20Matrix%20profile.pdf)."
      ],
      "metadata": {
        "id": "iHlrsF1YxEj_"
      }
    },
    {
      "cell_type": "code",
      "source": [
        "threshold = 0\n",
        "\n",
        "# INSERT YOUR CODE"
      ],
      "metadata": {
        "id": "V2Dmy8RDUELn"
      },
      "execution_count": null,
      "outputs": []
    },
    {
      "cell_type": "markdown",
      "source": [
        "Выполните визуализацию результатов сегментации повторяющихся активностей."
      ],
      "metadata": {
        "id": "K5JgTIJPxTR7"
      }
    },
    {
      "cell_type": "code",
      "source": [
        "plot_segmentation(mp, threshold)"
      ],
      "metadata": {
        "id": "zQDEJ4mVV4UM"
      },
      "execution_count": null,
      "outputs": []
    },
    {
      "cell_type": "markdown",
      "source": [
        "Загрузите истинную разметку временного ряда PAMAP *pamap_labels.csv*, где 0 означает ходьбу, 1 – подъем по лестнице, 2 – спуск с лестницы. Вычислите точность по метрике accuracy, сравнив полученные результаты по основе матричного профиля с истинной разметкой."
      ],
      "metadata": {
        "id": "FAnTDBq9TJdy"
      }
    },
    {
      "cell_type": "code",
      "source": [
        "labels_url = './datasets/part2/pamap_labels.csv'\n",
        "\n",
        "labels = pd.read_csv(labels_url, header=None).squeeze().to_numpy()"
      ],
      "metadata": {
        "id": "2Gy0ekSTT_cN"
      },
      "execution_count": null,
      "outputs": []
    },
    {
      "cell_type": "code",
      "source": [
        "# INSERT YOUR CODE"
      ],
      "metadata": {
        "id": "0j240KlM24lT"
      },
      "execution_count": null,
      "outputs": []
    },
    {
      "cell_type": "markdown",
      "source": [
        "## **Чaсть 3.** Casy Study: Раскрытие краж электричества подменой счетчиков (meter-swapping detection).\n"
      ],
      "metadata": {
        "id": "0XsJfvsDwEs9"
      }
    },
    {
      "cell_type": "markdown",
      "source": [
        "### **Задача 5.**\n",
        "\n",
        "Рассмотрим практическое применение использования матричного профиля для решения задачи, связанной с раскрытием краж электричества путем подмены счетчиков.\n",
        "\n",
        "Загрузите временные ряды из директории *./datasets/part3/*, которые были выбраны случайным образом из набора данных (House 1, 2, 3, 4 и 11), содержащего данные потребления электроэнергии 20 жилых домов в Великобритании с 1 января по 23 декабря 2014 года."
      ],
      "metadata": {
        "id": "ASHK6nFV2M3x"
      }
    },
    {
      "cell_type": "code",
      "source": [
        "path = './datasets/part3/'\n",
        "\n",
        "house_idx = [1, 2, 3, 4, 11]\n",
        "\n",
        "filenames = [f\"House{i}.csv\" for i in house_idx]\n",
        "\n",
        "consumptions = {}\n",
        "for house in filenames:\n",
        "    consumptions[house[:-4]] = pd.read_csv(os.path.join(path, house), header=None, index_col=0)\n",
        "    consumptions[house[:-4]].index = pd.to_datetime(consumptions[house[:-4]].index, dayfirst=True)"
      ],
      "metadata": {
        "id": "9A-Kr4YLxSIW"
      },
      "execution_count": null,
      "outputs": []
    },
    {
      "cell_type": "markdown",
      "source": [
        "Далее смоделируем событие замены счетчика. Для этого каждый временной ряд разделим на две части: \"Head\" (до 1 октября) и \"Tail\" (после 1 октября). После чего выберем случайным образом 2 временных ряда (например, House1 и House11) и поменяем местами их \"Tail\" части."
      ],
      "metadata": {
        "id": "c39xA1v37OmR"
      }
    },
    {
      "cell_type": "code",
      "source": [
        "cutoff = pd.to_datetime('2014-10-01')\n",
        "heads, tails = heads_tails(consumptions, cutoff, house_idx)\n",
        "\n",
        "#swap Heads and Tails of 1 and 11\n",
        "swap1, swap2 = 1, 11\n",
        "consumptions[f'House{swap1}'] = heads[f'H_{swap1}'].append(tails[f'T_{swap2}'])\n",
        "consumptions[f'House{swap2}'] = heads[f'H_{swap2}'].append(tails[f'T_{swap1}'])\n",
        "heads, tails = heads_tails(consumptions, cutoff, house_idx)"
      ],
      "metadata": {
        "id": "pTs8yUyThUtk"
      },
      "execution_count": null,
      "outputs": []
    },
    {
      "cell_type": "markdown",
      "source": [
        "Визуализируйте исходные временные ряды и параллельную оси OY прямую, которая делит временные ряды на \"Head\" и \"Tail\" части."
      ],
      "metadata": {
        "id": "4z2ubhAE9sI4"
      }
    },
    {
      "cell_type": "code",
      "source": [
        "plot_consumptions_ts(consumptions, cutoff, house_idx)"
      ],
      "metadata": {
        "id": "oTFAQGrw8hJe"
      },
      "execution_count": null,
      "outputs": []
    },
    {
      "cell_type": "markdown",
      "source": [
        "Чтобы найти переставленную пару временных рядов, выполним следующее. Сначала составим временные ряды $H_i$ из всевозможных комбинаций \"Head\" и \"Tail\" частей исходных временных рядов $T_K$, где $1 \\leq i \\leq |T|^2$, $1 \\leq K \\leq |T|$. В нашем случае, $|T| = 5$.  Далее среди них найдем такую пару временных рядов $(H_i, H_j)$, которая имеет минимальную оценку $swap\\_score$. Минимальная оценка $swap\\_score$ для пары рядов $(H_i, H_j)$ вычисляется следующим образом:\n",
        "\n",
        "\\begin{equation}\n",
        "swap\\_score(i,j) = \\frac{\\min{(Head_{H_i} \\bowtie Tail_{H_j})}}{\\min{(Head_{H_i} \\bowtie Tail_{H_i})}+eps},\n",
        "\\end{equation}\n",
        "\n",
        "где $\\bowtie$ – операция нахождения матричного профиля между двумя временными рядами. Матричный профиль между двумя временными рядами содержит расстояния между всеми подпоследовательностями первого временного ряда и их ближайшими соседями, которые являются подпоследовательностями второго временного ряда.\n",
        "\n",
        "Добавьте в функцию `compute_mp()` в модуле *mp.py* поддежку вычисления матричного профиля между двумя различными временными рядами и найдите пару временных рядов $(H_i, H_j)$, которая имеет минимальную оценку $swap\\_score$ среди всех пар."
      ],
      "metadata": {
        "id": "kRNJ11pZB8U2"
      }
    },
    {
      "cell_type": "code",
      "source": [
        "m = 24 * 4\n",
        "\n",
        "min_score = meter_swapping_detection(heads, tails, house_idx, m)"
      ],
      "metadata": {
        "id": "hkKNM3pPA026"
      },
      "execution_count": null,
      "outputs": []
    },
    {
      "cell_type": "code",
      "source": [
        "min_i, min_j, mp_j = min_score['i'], min_score['j'], min_score['mp_j']\n",
        "print(f'Time series with minimum score is (H_{min_i}, T_{min_j}).')"
      ],
      "metadata": {
        "id": "cDHGmhq-hVfG"
      },
      "execution_count": null,
      "outputs": []
    },
    {
      "cell_type": "markdown",
      "source": [
        "![equation.png](data:image/png;base64,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)\n",
        "Проанализируйте и изложите содержательный смысл полученных результатов."
      ],
      "metadata": {
        "id": "xDckzf0fRhoo"
      }
    },
    {
      "cell_type": "markdown",
      "source": [
        "*# WRITE YOUR ANSWER*"
      ],
      "metadata": {
        "id": "4Exe26GWRlVQ"
      }
    }
  ]
}