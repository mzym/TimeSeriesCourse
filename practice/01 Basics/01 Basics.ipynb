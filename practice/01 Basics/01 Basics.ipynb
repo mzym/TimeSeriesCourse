{
  "nbformat": 4,
  "nbformat_minor": 0,
  "metadata": {
    "colab": {
      "provenance": [],
      "toc_visible": true
    },
    "kernelspec": {
      "name": "python3",
      "display_name": "Python 3"
    },
    "language_info": {
      "name": "python"
    }
  },
  "cells": [
    {
      "cell_type": "markdown",
      "source": [
        "# Анализ и прогнозирование временных рядов методами искусственного интеллекта\n",
        "\n",
        "## **Практическая работа 1. Метрики и меры схожести между временными рядами.**"
      ],
      "metadata": {
        "id": "lo_4TuKQ7Rvi"
      }
    },
    {
      "cell_type": "markdown",
      "source": [
        "Смените рабочую директорию с помощью команды `chdir()`. Для этого передайте этой команде свой путь до каталога, в котором содержатся материалы первой практической работы. После выполнения этой команды все последующие операции с файлами и каталогами будут производиться относительно указанного каталога."
      ],
      "metadata": {
        "id": "5x4KJjWOr5Rm"
      }
    },
    {
      "cell_type": "code",
      "source": [
        "import os\n",
        "\n",
        "practice_dir_path = 'your/path/of/the/directory/containing/the/first/practice/files'\n",
        "os.chdir(practice_dir_path)"
      ],
      "metadata": {
        "id": "5jsToCkfFWdU"
      },
      "execution_count": null,
      "outputs": []
    },
    {
      "cell_type": "markdown",
      "source": [
        "Выполните команды, которые автоматически перезагружают все импортированные модули при их изменении."
      ],
      "metadata": {
        "id": "ok0wnfndt97x"
      }
    },
    {
      "cell_type": "code",
      "source": [
        "%load_ext autoreload\n",
        "%autoreload 2"
      ],
      "metadata": {
        "id": "HUZGrGwdL4_4"
      },
      "execution_count": null,
      "outputs": []
    },
    {
      "cell_type": "markdown",
      "source": [
        "Импортируйте библиотеки и модули, необходимые для реализации практической работы 1."
      ],
      "metadata": {
        "id": "huPpzXLq814_"
      }
    },
    {
      "cell_type": "code",
      "source": [
        "!pip install sktime"
      ],
      "metadata": {
        "id": "GMYZSsnptoaP"
      },
      "execution_count": null,
      "outputs": []
    },
    {
      "cell_type": "code",
      "source": [
        "import numpy as np\n",
        "import random\n",
        "from sktime.distances import euclidean_distance, dtw_distance, pairwise_distance\n",
        "from sklearn.metrics import silhouette_score\n",
        "import cv2\n",
        "import imutils\n",
        "import glob\n",
        "import matplotlib.pyplot as plt\n",
        "from google.colab.patches import cv2_imshow\n",
        "\n",
        "from modules.metrics import ED_distance, norm_ED_distance, DTW_distance\n",
        "from modules.pairwise_distance import PairwiseDistance\n",
        "from modules.clustering import TimeSeriesHierarchicalClustering\n",
        "from modules.classification import TimeSeriesKNN, calculate_accuracy\n",
        "from modules.image_converter import image2ts\n",
        "from modules.utils import read_ts, z_normalize, sliding_window, random_walk\n",
        "from modules.plots import plot_ts"
      ],
      "metadata": {
        "id": "CbWxHkjF8xYX"
      },
      "execution_count": null,
      "outputs": []
    },
    {
      "cell_type": "markdown",
      "source": [
        "## **Часть 1.** Функции расстояния: евклидова метрика и DTW мера. Матрица расстояний. Иерархическая кластеризация временных рядов."
      ],
      "metadata": {
        "id": "voz1-GqVLI-B"
      }
    },
    {
      "cell_type": "markdown",
      "source": [
        "### **Задача 1.**\n",
        "Реализуйте самостоятельно функцию `ED_distance()` в модуле *metrics.py*, которая вычисляет евклидово расстояние между двумя временными рядами, имеющими одинаковую длину. В качестве входных данных передайте в функцию два синтетических временных ряда некоторой заданной вами длины. Для их генерации используйте функцию `random_walk()` из модуля *utils.py*,  реализующую модель случайных блужданий (Random Walk), или стандартный модуль *random*.\n",
        "\n",
        "**Евклидово расстояние** между двумя временными рядами $T_1$ и $T_2$ длины $n$ вычисляется следующим образом:\n",
        "\n",
        "\\begin{equation}\n",
        "    \\text{ED}(T_1, T_2) = \\sqrt{\\sum_{i=1}^{n} ({t_{1}}_i-{t_{2}}_i)^2}.\n",
        "\\end{equation}\n",
        "\n",
        "Проверьте реализацию функции, сравнив свои результаты с результатами функции [`euclidean_distance()`](https://www.sktime.net/en/latest/api_reference/auto_generated/sktime.distances.euclidean_distance.html) из библиотеки *sktime*, с помощью `test_distances()`."
      ],
      "metadata": {
        "id": "c6rirU6j2z8z"
      }
    },
    {
      "cell_type": "code",
      "source": [
        "def test_distances(dist1: float, dist2: float) -> None:\n",
        "    \"\"\"\n",
        "    Check whether your distance function is implemented correctly\n",
        "\n",
        "    Parameters\n",
        "    ----------\n",
        "    dist1 : distance between two time series calculated by sktime\n",
        "    dist2 : distance between two time series calculated by your function\n",
        "    \"\"\"\n",
        "\n",
        "    np.testing.assert_equal(round(dist1, 5), round(dist2, 5), 'Distances are not equal')"
      ],
      "metadata": {
        "id": "UonNUuRvoY7p"
      },
      "execution_count": null,
      "outputs": []
    },
    {
      "cell_type": "code",
      "source": [
        "# INSERT YOUR CODE"
      ],
      "metadata": {
        "id": "sv2QymEGJGH-"
      },
      "execution_count": null,
      "outputs": []
    },
    {
      "cell_type": "markdown",
      "source": [
        "### **Задача 2.**\n",
        "\n",
        "Реализуйте самостоятельно функцию `DTW_distance()` в модуле *metrics.py*, которая вычисляет DTW расстояние между двумя временными рядами, имеющими одинаковую длину. Для вычисления расстояния между элементами временных рядов в DTW мере используйте евклидово расстояние. Временные ряды сгенерируйте аналогичным образом, как в задаче 1, или используйте уже созданные.\n",
        "\n",
        "**Динамическая трансформация временной шкалы (Dynamic Time Warping, DTW)** – мера схожести между двумя временными рядами $T_1$ и $T_2$ длины $n$, вычисляемая следующим образом:\n",
        "\n",
        "\\begin{equation}\n",
        "\\text{DTW}(T_1, T_2) = d(n,n),\n",
        "\\\\ d(i,j) = ({t_{1}}_i - {t_{2}}_j)^2 + \\min \\left\\{\n",
        "\t\\begin{array}{l l}\n",
        "\td(i-1,j), \\\\\n",
        "\td(i,j-1), \\\\\n",
        "\td(i-1,j-1),\n",
        "\t\\end{array}\n",
        "\t\\right.\n",
        "\\\\ d(0,0)=0, \\quad d(i,0)=d(0,j)=\\infty, \\quad  1 \\leqslant i,j \\leqslant n.\n",
        "\\end{equation}\n",
        "\n",
        "Сравните свои результаты с результатами функции [`dtw_distance()`](https://www.sktime.net/en/latest/api_reference/auto_generated/sktime.distances.dtw_distance.html) из библиотеки *sktime*. Для этого используйте `test_distances()` из задачи 1."
      ],
      "metadata": {
        "id": "ThvJ4CrY-DMe"
      }
    },
    {
      "cell_type": "code",
      "source": [
        "# INSERT YOUR CODE"
      ],
      "metadata": {
        "id": "GU6jTavryBWx"
      },
      "execution_count": null,
      "outputs": []
    },
    {
      "cell_type": "markdown",
      "source": [
        "### **Задача 3.**\n",
        "Реализуйте нахождение матрицы расстояний между несколькими временными рядами.\n",
        "Для этого заполните все методы c недостающим кодом в классе `PairwiseDistance` из модуля *pairwise_distance.py*. Для вычисления расстояний между рядами используйте ранее реализованные вами функции `ED_distance()` и `DTW_distance()` из модуля *metrics.py*.\n",
        "\n",
        "Матрица расстояний между временными рядами определяется следующим образом. Пусть дано множество $S$, состоящее из $K$ временных рядов длины $n$: $\\;S = \\{T_1, T_2, ..., T_K\\}, \\; T_i \\in \\mathbb{R}^n$. Тогда под **матрицей расстояний** $D \\in \\mathbb{R}^{K \\times K}$ понимается квадратная матрица, где каждый ее элемент $d(i,j)$ представляет собой расстояние между временными рядами $T_i$ и $T_j$ из множества $S$:\n",
        "\\begin{equation}\n",
        "d(i,j) = dist(T_i, T_j), \\quad T_i, T_j \\in S, \\quad 1 \\leqslant i,j \\leqslant K.\n",
        "\\end{equation}\n",
        "\n",
        "Поскольку евклидова метрика и DTW мера удовлетворяют аксиоме симметричности (т.е. $dist(T_i, T_j)=dist(T_j, T_i)$), то матрица расстояний $D$ будет симметричной относительно главной диагонали. Для ускорения вычислений достаточно найти ее верхний треугольник, а нижний треугольник матрицы заполнить значениями верхнего треугольника следующим образом:\n",
        "\\begin{equation}\n",
        "d(j,i) = d(i,j), \\; где \\; i < j.\n",
        "\\end{equation}\n",
        "\n",
        "<center><img src=\"https://github.com/mzym/TimeSeriesCourse/blob/main/practice/01%20Basics/img/distance_matrix.png?raw=true\" width=\"600\"></center>"
      ],
      "metadata": {
        "id": "V4Li2-bcRzG7"
      }
    },
    {
      "cell_type": "markdown",
      "source": [
        "Сгенерируйте множество, состоящее из $K$ временных рядов некоторой длины $n$. Вычислите матрицы евклидовых и DTW расстояний между ними. Проверьте реализованные вами методы, сравнив свои результаты с результатами функции [`pairwise_distance()`](https://www.sktime.net/en/latest/api_reference/auto_generated/sktime.distances.pairwise_distance.html) из библиотеки *sktime*."
      ],
      "metadata": {
        "id": "uBHlNCjqqukS"
      }
    },
    {
      "cell_type": "code",
      "source": [
        "def test_matrices(matrix1 : np.ndarray, matrix2 : np.ndarray) -> None:\n",
        "    \"\"\"\n",
        "    Check whether your matrix function is implemented correctly\n",
        "\n",
        "    Parameters\n",
        "    ----------\n",
        "    matrix1 : distance matrix calculated by sktime\n",
        "    matrix2 : distance matrix calculated by your function\n",
        "    \"\"\"\n",
        "\n",
        "    np.testing.assert_equal(matrix1.round(5), matrix2.round(5), 'Matrices are not equal')"
      ],
      "metadata": {
        "id": "jTp56wMd-uhN"
      },
      "execution_count": null,
      "outputs": []
    },
    {
      "cell_type": "code",
      "source": [
        "# INSERT YOUR CODE"
      ],
      "metadata": {
        "id": "05a9bmkvkZTR"
      },
      "execution_count": null,
      "outputs": []
    },
    {
      "cell_type": "markdown",
      "source": [
        "### **Задача 4.**\n",
        "Далее рассмотрим задачу иерархической кластеризации временных рядов, где будет использоваться предвычисленная матрица расстояний.\n",
        "\n",
        "Для этого сначала загрузите набор временных рядов CBF из файла *CBF_TRAIN.txt*, который располагается в директории *./datasets/part1*. Каждая строка данного файла содержит целевую переменную (класс: 0, 1 или 2) в первом столбце и временной ряд в остальных столбцах. Набор CBF является синтетическим и включает в себя 30 временных рядов,  каждый из которых принадлежит к одному из трех классов."
      ],
      "metadata": {
        "id": "ZKbP0Pt8RyJg"
      }
    },
    {
      "cell_type": "code",
      "source": [
        "url = './datasets/part1/CBF_TRAIN.txt'\n",
        "\n",
        "data = read_ts(url)\n",
        "\n",
        "ts_set = data.iloc[:, 1:]\n",
        "labels = data.iloc[:, 0]"
      ],
      "metadata": {
        "id": "DmefHJ64FYGT"
      },
      "execution_count": null,
      "outputs": []
    },
    {
      "cell_type": "markdown",
      "source": [
        "Выполните визуализацию по одному временному ряду из каждого класса. Для этого используйте функцию `plot_ts()` из модуля *plots.py*."
      ],
      "metadata": {
        "id": "_4a6AIrT19g3"
      }
    },
    {
      "cell_type": "code",
      "source": [
        "# INSERT YOUR CODE"
      ],
      "metadata": {
        "id": "WWnUbJWmy1kB"
      },
      "execution_count": null,
      "outputs": []
    },
    {
      "cell_type": "markdown",
      "source": [
        "Далее самостоятельно реализуйте класс `TimeSeriesHierarchicalClustering` из модуля *clustering.py*, который выполняет иерархическую кластеризацию временных рядов.\n",
        "\n",
        "Перед тем как приступить к реализации, изучите скелет этого класса. Реализуйте метод `fit()`, выполняющий кластеризацию данных на основе предвычисленной матрицы расстояний, которая передается в данный метод. Поскольку реализовать иерархическую кластеризацию довольно сложно, используйте готовую реализацию [`AgglomerativeClustering`](https://scikit-learn.org/stable/modules/generated/sklearn.cluster.AgglomerativeClustering.html) из *sklearn*.   \n",
        "\n",
        "Выполните иерархическую кластеризацию загруженных временных рядов CBF для двух функций расстояния: евлидовой метрики и DTW меры.\n",
        "Для этого сначала найдите матрицы расстояний между временными рядами, используя класс `PairwiseDistance`, и передайте каждую матрицу в метод `fit()` для кластеризации.\n",
        "Далее выполните визуализацию результатов в виде дендрограмм с помощью метода `plot_dendrogram()`, передав исходный набор временных рядов и их метки."
      ],
      "metadata": {
        "id": "0ryFTWiz_fWA"
      }
    },
    {
      "cell_type": "code",
      "source": [
        "# INSERT YOUR CODE"
      ],
      "metadata": {
        "id": "LOZc-IVCH7OG"
      },
      "execution_count": null,
      "outputs": []
    },
    {
      "cell_type": "markdown",
      "source": [
        "Сравните результаты иерархической кластеризации, полученные при двух различных функций расстояния, с помощью силуэтного коэффициента. Для этого используйте функцию [`silhouette_score()`](https://scikit-learn.org/stable/modules/generated/sklearn.metrics.silhouette_score.html) из библиотеки *sklearn*, передав в нее предвычисленную матрицу расстояний и предсказанные метки.\n",
        "\n",
        "**Силуэтный коэффициент** – метрика, которая оценивает качество кластеризации на основе исходной выборки и результатов кластеризации без необходимости знания об истинных метках объектов.\n",
        "\n",
        "Силуэтный коэффициент для выборки показывает, насколько среднее расстояние до объектов своего кластера отличается от среднего расстояния до объектов других кластеров. Пусть дана выборка $X$, состоящая из $N$ объектов. Предположим, что объекты этой выборки были разбиты на кластеры $c_1, ... c_K$, $c_i \\in C$, с помощью некоторого алгоритма кластеризации. Тогда силуэтный коэффициент для выборки будет вычисляться следующим образом:\n",
        "\n",
        "\\begin{equation}\n",
        "sil\\_coef = \\frac{1}{N} \\sum_{c_k \\in C} \\sum_{x_i \\in c_k} \\frac{b(x_i, c_k) - a(x_i, c_k)}{\\max(a(x_i, c_k), b(x_i, c_k))},\n",
        "\\end{equation}\n",
        "\n",
        "где $a(x_i, c_k)$ – среднее расстояние от объекта $x_i \\in c_k$ до других объектов из этого же кластера $c_k$; <br> $b(x_i, c_k)$  – среднее расстояние от объекта $x_i \\in c_k$ до объектов из другого кластера $c_l$, $k \\neq l$.\n",
        "\n",
        "Силуэтный коэффициент принимает значения от  −1  до  1:\n",
        "*   –1 означает, что кластеры плохие, размытые;\n",
        "*   0 означает, что кластеры накладываются друг на друга;\n",
        "*   1 означает, что кластеры плотные и хорошо отделены друг от друга.\n",
        "\n",
        "Таким образом, чем ближе значение коэффициента к 1, тем лучше кластеризованы данные."
      ],
      "metadata": {
        "id": "AKLbiOYSp9us"
      }
    },
    {
      "cell_type": "code",
      "source": [
        "# INSERT YOUR CODE"
      ],
      "metadata": {
        "id": "awXYWGphqCbQ"
      },
      "execution_count": null,
      "outputs": []
    },
    {
      "cell_type": "markdown",
      "source": [
        "![equation.png](data:image/png;base64,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)\n",
        "Проанализируйте полученные результаты кластеризации с помощью построенных дендрограмм и вычисленных силуэтных коэффициентов. Какая, на ваш взгляд, функция расстояния показала лучший результат и почему? Укажите, в каких случаях более предпочтительно использовать DTW меру, чем евклидову метрику."
      ],
      "metadata": {
        "id": "CRfDkih_AGuB"
      }
    },
    {
      "cell_type": "markdown",
      "source": [
        "*# WRITE YOUR ANSWER*"
      ],
      "metadata": {
        "id": "vxDN87yuAQ9l"
      }
    },
    {
      "cell_type": "markdown",
      "source": [
        "## **Часть 2.** $Z$-нормализация временных рядов."
      ],
      "metadata": {
        "id": "1f2_mgETwkZY"
      }
    },
    {
      "cell_type": "markdown",
      "source": [
        "### **Задача 5.**\n",
        "Реализуйте функцию вычисления нормализованного евклидова расстояния между временными рядами `norm_ED_distance()` в модуле *metrics.py* и проверьте правильность своей реализации, сравнив полученные результаты с результатами функции [`ed_distance()`](https://www.sktime.net/en/latest/api_reference/auto_generated/sktime.distances.euclidean_distance.html) из библиотеки *sktime*, в которую необходимо передать <u>нормализованные</u> временные ряды. Для нормализации временных рядов используйте функцию `z-normalize()` из *utils.py*.  Для проверки можно использовать синтетические временные ряды из первой части или заново их сгенерировать.\n",
        "\n",
        "**Нормализованная евклидова метрика** между двумя временными рядами $T_1$ и $T_2$ длины $n$ вычисляется следующим образом:\n",
        "\n",
        "\\begin{equation}\n",
        "\t\\text{ED}_{norm}(T_1, T_2) = \\sqrt {\\Big|\\; 2n\\left(1-\\dfrac{<T_1, T_2> - \\; n \\; \\cdotp \\mu_{T_1} \\; \\cdotp \\mu_{T_2}}{n \\; \\cdotp \\sigma_{T_1} \\; \\cdotp \\sigma_{T_2}}\\right)\\Big|},\n",
        "\\end{equation}\n",
        "\n",
        "где $<T_1, T_2>$ – скалярное произведение временных рядов, $\\mu_{T_1}$ и $\\mu_{T_2}$, $\\sigma_{T_1}$ и $\\sigma_{T_2}$ – среднее арифметическое и стандартное отклонение временных рядов соответственно.\n",
        "\n",
        "**Среднее арифметическое** $\\mu_T$ и **стандартное отклонение** $\\sigma_T$ временного ряда $T$ длины $n$ вычисляются по следующим формулам:\n",
        "\n",
        "\\begin{equation}\n",
        "\t\\mu_{T} = \\frac{1}{n}\\sum\\limits_{i=1}^{n} t_{i}, \\\\[1em]\n",
        "\t\\sigma_{T} = \\sqrt{\\frac{1}{n}\\sum\\limits_{i=1}^{n} t_i^2-\\mu_{T}^2}.\n",
        "\\end{equation}"
      ],
      "metadata": {
        "id": "BvVfiEMTvl0o"
      }
    },
    {
      "cell_type": "code",
      "source": [
        "# INSERT YOUR CODE"
      ],
      "metadata": {
        "id": "4CWvwwuQJNPP"
      },
      "execution_count": null,
      "outputs": []
    },
    {
      "cell_type": "markdown",
      "source": [
        "### **Задача 6.**\n",
        "Далее убедимся, что выполнение $z$-нормализации на этапе предобработки данных имеет важное значение и может повысить точность решаемой задачи.\n",
        "\n",
        "В данном задании вы продолжите решать задачу иерархической кластеризации. В качестве данных будут использоваться два временных ряда из набора данных [BIDMC](https://physionet.org/content/chfdb/1.0.0/). Набор BIDMC состоит из записей ЭКГ-сигналов, снятых с 15 пациентов с сердечной недостаточностью тяжелой степени.  \n",
        "\n",
        "Загрузите два временных ряда и визуализируйте их с помощью функции `plot_ts()` из модуля *plots.py*."
      ],
      "metadata": {
        "id": "Fd-Ytm-3up37"
      }
    },
    {
      "cell_type": "code",
      "source": [
        "url1 = './datasets/part2/chf10.csv'\n",
        "ts1 = read_ts(url1)\n",
        "\n",
        "url2 = './datasets/part2/chf11.csv'\n",
        "ts2 = read_ts(url2)"
      ],
      "metadata": {
        "id": "Ej1vG79L3Ns-"
      },
      "execution_count": null,
      "outputs": []
    },
    {
      "cell_type": "code",
      "source": [
        "ts_set = np.concatenate((ts1, ts2), axis=1).T"
      ],
      "metadata": {
        "id": "e7lUvTjb7dMa"
      },
      "execution_count": null,
      "outputs": []
    },
    {
      "cell_type": "code",
      "source": [
        "plot_ts(ts_set)"
      ],
      "metadata": {
        "id": "zBqBgXL_dr-K"
      },
      "execution_count": null,
      "outputs": []
    },
    {
      "cell_type": "markdown",
      "source": [
        "Разделите каждый временной ряд на непересекающиеся подпоследовательности с помощью техники скользящего окна. Для этого используйте функцию `sliding_window()` из модуля *utils.py*, передав в нее временной ряд, заданную длину подпоследовательности и величину шага. В нашем случае, величина шага равна длине подпоследовательности."
      ],
      "metadata": {
        "id": "voNtTQAg0aR5"
      }
    },
    {
      "cell_type": "code",
      "source": [
        "m = 125\n",
        "subs_set1 = sliding_window(ts_set[0], m, m-1)\n",
        "subs_set2 = sliding_window(ts_set[1], m, m-1)"
      ],
      "metadata": {
        "id": "ptVJWErHuts_"
      },
      "execution_count": null,
      "outputs": []
    },
    {
      "cell_type": "markdown",
      "source": [
        "Сформируйте множество всех подпоследовательностей, извлеченных из двух временных рядов, и массив меток подпоследовательностей в соответствии с их принадлежностью к временному ряду."
      ],
      "metadata": {
        "id": "JyZmw7l8rEmg"
      }
    },
    {
      "cell_type": "code",
      "source": [
        "subs_set = np.concatenate((subs_set1[0:15], subs_set2[0:15]))\n",
        "labels = np.array([0]*subs_set1[0:15].shape[0] + [1]*subs_set2[0:15].shape[0])"
      ],
      "metadata": {
        "id": "wk2HrKVJzATk"
      },
      "execution_count": null,
      "outputs": []
    },
    {
      "cell_type": "markdown",
      "source": [
        "Добавьте в класс `PairwiseDistance` из модуля *pairwise_distance.py* возможность вычисления нормализованной евклидовой метрики между временными рядами. Если матрица расстояний строится для нормализованных временных рядов на основе евклидовой метрики, то должна вызываться функция `norm_ED_distance()`. Для остальных метрик/мер схожести перед нахождением матрицы расстояний временные ряды должны подтвергаться $z$-нормализации с помощью функции `z_normalize()` из модуля *utils.py*.\n",
        "\n",
        "Далее выполните иерархическую кластеризацию подпоследовательностей двух временных рядов с использованием предварительно построенных матриц расстояний на основе классической и нормализованной евклидовой метрики."
      ],
      "metadata": {
        "id": "xNc4ihIRu2Xt"
      }
    },
    {
      "cell_type": "code",
      "source": [
        "# INSERT YOUR CODE"
      ],
      "metadata": {
        "id": "0s6Bcgims7r5"
      },
      "execution_count": null,
      "outputs": []
    },
    {
      "cell_type": "markdown",
      "source": [
        "Вычислите силуэтные коэффициенты для оценки качества кластеризации с нормализацией и без нее, как это было сделано в задаче 4 части 1."
      ],
      "metadata": {
        "id": "WuquG9oFvJOo"
      }
    },
    {
      "cell_type": "code",
      "source": [
        "# INSERT YOUR CODE"
      ],
      "metadata": {
        "id": "ODvZDF2pvNR3"
      },
      "execution_count": null,
      "outputs": []
    },
    {
      "cell_type": "markdown",
      "source": [
        "![equation.png](data:image/png;base64,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)\n",
        "Сравните полученные результаты кластеризации с помощью построенных дендрограмм и вычисленных силуэтных коэффициентов. Позволила ли $z$-нормализации временных рядов повысить качество кластеризации?"
      ],
      "metadata": {
        "id": "KX8flrMwQnJi"
      }
    },
    {
      "cell_type": "markdown",
      "source": [
        "*# WRITE YOUR ANSWER*"
      ],
      "metadata": {
        "id": "gg6MjxpSSKq3"
      }
    },
    {
      "cell_type": "markdown",
      "source": [
        "## **Часть 3.** Классификация изображений, представленных в виде временных рядов."
      ],
      "metadata": {
        "id": "pEVntMKowu8O"
      }
    },
    {
      "cell_type": "markdown",
      "source": [
        "### **Задача 7.**\n",
        "В данном задании вам предстоит выполнить преобразование изображения, на котором находится некоторый объект, во временной ряд. Для этого вы реализуете один из существующих методов, предложенный в [статье Кеога и др](https://dl.acm.org/doi/10.5555/1182635.1164203).\n",
        "\n",
        "Данный метод заключается в том, что сначала на изображении выполняется поиск контура $E = \\{e_i\\}_{i=1}^L$, где $e_i$ – точки контура, и центра масс объекта $O$. Затем берутся точки, расположенные на контуре объекта, следующим образом.\n",
        "\n",
        "Рассмотрим луч $OP$ с началом в центре масс объекта $O$, направление которого совпадает с положительным направлением оси Ox (см. рисунок). Далее выполняется поворот против часовой стрелки луча $OP$ вокруг центра масс $O$ на некоторый заданный угол $α$, $1° \\leqslant α \\leqslant 360°$. Поворот луча будет осуществляться до тех пор, пока луч не пройдет полный оборот. Все точки $P = \\{P_i\\}_{i=1}^K$, $P_i \\in E$, $K = \\lfloor \\frac{360°}{α} \\rfloor$, образованные пересечением луча $OP$ с контуром $E$ во время поворота, будут являться искомыми.\n",
        "\n",
        "На завершающем шаге метода вычисляются расстояния между центром масс объекта $O$ и найденными точками на контуре $P$. В качестве функции расстояния может быть использовано манхэттенское или евклидово расстояние. Полученные расстояния будут формировать временной ряд $T$ длины $K$:\n",
        "\\begin{equation}\n",
        "T = \\{t_i\\}_{i=1}^K,\\;где \\; t_i = dist(O, P_i), \\; P_i \\in P.\n",
        "\\end{equation}\n",
        "\n",
        "\\\n",
        "<center><img src=\"https://github.com/mzym/TimeSeriesCourse/blob/main/practice/01%20Basics/img/image2ts.png?raw=true\" width=\"1000\"></center>"
      ],
      "metadata": {
        "id": "XKIw--vpLJzk"
      }
    },
    {
      "cell_type": "markdown",
      "source": [
        "Поскольку часть 3 предполагает работу с изображениями, то вы будете использовать для реализации некоторых частей кода библиотеку компьютерного зрения *cv2*. Для поиска всех необходимых функций рекомендуем воспользоваться [документацией библиотеки cv2](https://docs.opencv.org/4.x/d6/d00/tutorial_py_root.html).\n",
        "\n",
        "Загрузите изображение *example.tif* из директории *./datasets/part3* и выполните его визуализацию с помощью соответствующих функций из библиотеки *cv2*."
      ],
      "metadata": {
        "id": "KyWPcg5sw360"
      }
    },
    {
      "cell_type": "code",
      "source": [
        "# INSERT YOUR CODE"
      ],
      "metadata": {
        "id": "u5K9vZtgw7CX"
      },
      "execution_count": null,
      "outputs": []
    },
    {
      "cell_type": "markdown",
      "source": [
        "За конвертацию изображения во временной ряд с помощью описанного выше метода отвечает функция `image2ts()` из модуля *image_converter.py*. Прежде чем исходное изображение будет преобразовано во временной ряд, сначала оно должно пройти этап предварительной обработки. Предварительная обработка включает в себя следующие шаги:\n",
        "\n",
        "<center><img src=\"https://github.com/mzym/TimeSeriesCourse/blob/main/practice/01%20Basics/img/image_preprocessing.png?raw=true\" width=\"1000\"></center>\n",
        "\n",
        "Предобработка изображения в `image2ts()` осуществляется с помощью функции `_img_preprocess()`. Реализуйте в данной функции все представленные на диаграмме шаги предварительной обработки средствами библиотеки *cv2*. Промежуточные результаты должны совпадать с представленными на диаграмме.\n",
        "\n",
        "Далее выполните конвертацию изображения во временной ряд, передав в функцию `image2ts()` следующие заданные вами аргументы:\n",
        "*   исходное загруженное изображение;\n",
        "*   шаг угла поворота;\n",
        "*   параметр, определяющий нужно или нет визуализировать изображение с выделенными на нем контуром, центром масс и лучами, проведенными из центра.\n",
        "\n",
        "Визуализируйте полученный временной ряд.\n"
      ],
      "metadata": {
        "id": "SA2dUqaAw_S3"
      }
    },
    {
      "cell_type": "code",
      "source": [
        "angle_step = 20\n",
        "visualize = True\n",
        "\n",
        "ts = image2ts(img, angle_step, visualize)\n",
        "plot_ts(np.array([ts]), \"Time series representation of image\")"
      ],
      "metadata": {
        "id": "edKiXoEOxJJC"
      },
      "execution_count": null,
      "outputs": []
    },
    {
      "cell_type": "markdown",
      "source": [
        "### **Задача 8.**\n",
        "\n",
        "Выполните классификацию изображений, представленных в виде временных рядов, с помощью метода $k$ ближайших соседей (kNN).\n",
        "\n",
        "**Метод $k$ ближайших соседей (kNN)** – алгоритм классификации, заключающийся в вычислении сходства между объектами на основе некоторой заданной метрики/меры схожести. Классифицируемый объект относится к тому классу, к которому принадлежит большинство из его $k$ соседей ($k$ ближайших к нему объектов из обучающей выборки).\n",
        "\n",
        "Для классификации на основе алгоритма kNN необходимо выполнить следующие шаги:\n",
        "\n",
        "1. Загрузить обучающую и тестовую выборки.\n",
        "\n",
        "2. Задать параметр алгоритма $k$, где $k$ – количество ближайших соседей, $k \\in \\mathbb N^*$.\n",
        "\n",
        "3. Для каждого объекта из тестовой выборки выполнить следующее:\n",
        "\n",
        "    3.1. Вычислить расстояние до всех объектов из обучающей выборки на основе заданной метрики/меры схожести.\n",
        "    \n",
        "    3.2. Отсортировать в порядке возрастания найденные расстояния.\n",
        "\n",
        "    3.3. Найти $k$ ближайших соседей, взяв первые $k$ минимальные расстояния из отсортированного массива расстояний.\n",
        "\n",
        "    3.4. Назначить объекту из тестовой выборки наиболее часто встречающийся класс найденных ранее ближайших соседей.\n",
        "\n",
        "\n",
        "Для этого задания вам предлагается набор данных, который содержит изображения листьев четырех различных пород деревьев: дуб, ольха, ива и липа. Набор данных состоит из обучающей и тестовой выборок, включающих по 15 и 10 изображений листьев на класс соответственно. Для составления этого набора данных изображения были взяты из [Swedish Leaf Dataset](https://www.cvl.isy.liu.se/en/research/datasets/swedish-leaf/).\n",
        "\n",
        "Загрузите изображения из обучающей и тестовой выборок, а также их метки, используя `read_images()` и `read_ts()` соответственно.\n",
        "Выполните визуализацию прецедентов выборки с помощью функции `plot_images()`.\n"
      ],
      "metadata": {
        "id": "YbZ1-p3J37lU"
      }
    },
    {
      "cell_type": "code",
      "source": [
        "def read_images(dir: str) -> list[np.ndarray]:\n",
        "    \"\"\"\n",
        "    Load all images from a directory\n",
        "\n",
        "    Parameters\n",
        "    ----------\n",
        "    dir: directory path\n",
        "\n",
        "    Returns\n",
        "    -------\n",
        "    images: images from a directory\n",
        "    \"\"\"\n",
        "\n",
        "    images = []\n",
        "    for img_path in sorted(glob.glob(dir)):\n",
        "        cv_img = cv2.imread(img_path)\n",
        "        images.append(cv_img)\n",
        "\n",
        "    return images"
      ],
      "metadata": {
        "id": "P4qhn1634PPR"
      },
      "execution_count": null,
      "outputs": []
    },
    {
      "cell_type": "code",
      "source": [
        "def plot_images(images: list[np.ndarray], labels: np.ndarray, class_names: list[str]) -> None:\n",
        "    \"\"\"\n",
        "    Plot some images from dataset\n",
        "\n",
        "    Parameters\n",
        "    ----------\n",
        "    images: dataset of images\n",
        "    labels: labels of images\n",
        "    class_names: class names of images\n",
        "    \"\"\"\n",
        "\n",
        "    rows = 2\n",
        "    columns = 4\n",
        "\n",
        "    fig, axes = plt.subplots(nrows=rows, ncols=columns, figsize=(columns*2, rows*3))\n",
        "\n",
        "    for num in range(1, rows*columns+1):\n",
        "        fig.add_subplot(rows, columns, num)\n",
        "        idx = num - 1\n",
        "        plt.imshow(images[idx], aspect='auto')\n",
        "        plt.title(f'{class_names[labels[idx]]}', fontsize=10)\n",
        "\n",
        "    fig.tight_layout()\n",
        "\n",
        "    for idx, ax in enumerate(axes.flat):\n",
        "        ax.set_xticks([])\n",
        "        ax.set_yticks([])"
      ],
      "metadata": {
        "id": "WRi1hxpPViVE"
      },
      "execution_count": null,
      "outputs": []
    },
    {
      "cell_type": "code",
      "source": [
        "train_set_path = \"./datasets/part3/train_set_leaves/*.tif\"\n",
        "test_set_path = \"./datasets/part3/test_set_leaves/*.tif\"\n",
        "\n",
        "train_images = read_images(train_set_path)\n",
        "test_images = read_images(test_set_path)\n",
        "\n",
        "train_label_path = './datasets/part3/train_set_leaves/train_label.csv'\n",
        "test_label_path = './datasets/part3/test_set_leaves/test_label.csv'\n",
        "\n",
        "train_labels = read_ts(train_label_path)\n",
        "train_labels = train_labels.reshape(-1).astype('int32')\n",
        "\n",
        "test_labels = read_ts(test_label_path)\n",
        "test_labels = test_labels.reshape(-1).astype('int32')"
      ],
      "metadata": {
        "id": "6LYlleFcxTGv"
      },
      "execution_count": null,
      "outputs": []
    },
    {
      "cell_type": "code",
      "source": [
        "class_names = ['Quercus (дуб)', 'Alnus (ольха)', 'Salix (ива)', 'Tilia (липа)']\n",
        "plot_images(train_images, train_labels, class_names)"
      ],
      "metadata": {
        "id": "Mxibv3gGxToN"
      },
      "execution_count": null,
      "outputs": []
    },
    {
      "cell_type": "markdown",
      "source": [
        "Выполните преобразование изображений обучающей и тестовой выборок во временные ряды с помощью функции `image2ts()`.  "
      ],
      "metadata": {
        "id": "ge9b7ztIxXCo"
      }
    },
    {
      "cell_type": "code",
      "source": [
        "# INSERT YOUR CODE"
      ],
      "metadata": {
        "id": "fpDi7VN1xXwo"
      },
      "execution_count": null,
      "outputs": []
    },
    {
      "cell_type": "markdown",
      "source": [
        "Для классификации временных рядов методом $k$ ближайших соседей вам необходимо использовать класс `TimeSeriesKNN` из модуля *classification.py*.\n",
        "Реализуйте метод `fit()` в классе `TimeSeriesKNN`, который выполняет поиск для каждого элемента из тестовой выборки $k$ ближайших соседей и назначает им тот класс, который является часто встречающимся среди классов ближайших соседей. В качестве параметров в метод `fit()` передается тестовая выборка. Вычислите точность классификации по метрике accuracy с помощью функции `calculate_accurary()` из модуля *classification.py*."
      ],
      "metadata": {
        "id": "fXWq_cM6vUbK"
      }
    },
    {
      "cell_type": "code",
      "source": [
        "n_neighbors = 6\n",
        "metric = 'euclidean'\n",
        "metric_params = {'normalize': True}\n",
        "\n",
        "# INSERT YOUR CODE"
      ],
      "metadata": {
        "id": "rttBJwnkyYT9"
      },
      "execution_count": null,
      "outputs": []
    },
    {
      "cell_type": "code",
      "source": [
        "metric = 'dtw'\n",
        "metric_params = {'normalize': True}\n",
        "\n",
        "# INSERT YOUR CODE"
      ],
      "metadata": {
        "id": "QCBAiXuAzLpQ"
      },
      "execution_count": null,
      "outputs": []
    },
    {
      "cell_type": "markdown",
      "source": [
        "![equation.png](data:image/png;base64,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)\n",
        "Проанализируйте результаты и сделайте выводы."
      ],
      "metadata": {
        "id": "6Fbfsej4XKX4"
      }
    },
    {
      "cell_type": "markdown",
      "source": [
        "*# WRITE YOUR ANSWER*"
      ],
      "metadata": {
        "id": "b2YG3zbeXLgQ"
      }
    }
  ]
}