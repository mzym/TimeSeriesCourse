{
  "nbformat": 4,
  "nbformat_minor": 0,
  "metadata": {
    "colab": {
      "provenance": [],
      "collapsed_sections": [
        "X5XwzbI867MC"
      ]
    },
    "kernelspec": {
      "name": "python3",
      "display_name": "Python 3"
    },
    "language_info": {
      "name": "python"
    }
  },
  "cells": [
    {
      "cell_type": "markdown",
      "source": [
        "# Анализ и прогнозирование временных рядов методами искусственного интеллекта\n",
        "\n",
        "## **Практическая работа 2. Поиск по образцу.**"
      ],
      "metadata": {
        "id": "bfrbKvRU6Nmf"
      }
    },
    {
      "cell_type": "markdown",
      "source": [
        "Смените рабочую директорию с помощью команды `chdir()`. Для этого передайте этой команде свой путь до каталога, в котором содержатся материалы второй практической работы. После выполнения этой команды все последующие операции с файлами и каталогами будут производиться относительно указанного каталога."
      ],
      "metadata": {
        "id": "2952siVr43gU"
      }
    },
    {
      "cell_type": "code",
      "source": [
        "import os\n",
        "\n",
        "practice_dir_path = 'your/path/of/the/directory/containing/the/second/practice/files'\n",
        "os.chdir(practice_dir_path)"
      ],
      "metadata": {
        "id": "TQZ4rNEl6ICx"
      },
      "execution_count": null,
      "outputs": []
    },
    {
      "cell_type": "markdown",
      "source": [
        "Выполните команды, которые автоматически перезагружают все импортированные модули при их изменении."
      ],
      "metadata": {
        "id": "50ggs2mK46lM"
      }
    },
    {
      "cell_type": "code",
      "source": [
        "%load_ext autoreload\n",
        "%autoreload 2"
      ],
      "metadata": {
        "id": "yiV3X0-STnFk"
      },
      "execution_count": null,
      "outputs": []
    },
    {
      "cell_type": "markdown",
      "source": [
        "Импортируйте библиотеки и модули, необходимые для реализации практической работы 2."
      ],
      "metadata": {
        "id": "SkBt8uY9_J9u"
      }
    },
    {
      "cell_type": "code",
      "source": [
        "!pip install mass-ts\n",
        "!pip install sktime"
      ],
      "metadata": {
        "id": "vNKNrQ6_UIq6"
      },
      "execution_count": null,
      "outputs": []
    },
    {
      "cell_type": "code",
      "execution_count": null,
      "metadata": {
        "id": "8jNrqLRB6H33"
      },
      "outputs": [],
      "source": [
        "import numpy as np\n",
        "import pandas as pd\n",
        "import math\n",
        "import timeit\n",
        "import random\n",
        "import mass_ts as mts\n",
        "from IPython.display import display\n",
        "\n",
        "from modules.distance_profile import brute_force\n",
        "from modules.prediction import *\n",
        "from modules.bestmatch import *\n",
        "from modules.utils import *\n",
        "from modules.plots import *"
      ]
    },
    {
      "cell_type": "markdown",
      "source": [
        "## **Часть 1.** Поиск по образцу на основе вычисленного профиля расстояния.\n",
        "\n",
        "**Задача поиска по образцу (subsequence matching)** заключается в нахождении $topK$ наиболее похожих подпоследовательностей временного ряда $T$ длины $n$ на заданный пользователем существенно более короткий временной ряд $Q$ длины $m$, называемый запросом, в смысле некоторой функции расстояния, $m \\ll n$. При этом среди найденных подпоследовательностей не должно быть тривиальных совпадений.\n",
        "\n",
        "Две подпоследовательности $T_{i,m}$ и $T_{j,m}$ временного ряда $T$ являются **тривиальными совпадениями (trivial matches)**, если они пересекаются:\n",
        "\\begin{equation}\n",
        "|i-j| \\leqslant m.\n",
        "\\end{equation}\n",
        "\n",
        "В общем случае условие пересечения записывается как $|i-j| \\leqslant \\xi m$, где задаваемый экспертом вещественный параметр $\\xi$ $(0 < \\xi \\leqslant 1)$ имеет типичные значения 0.25, 0.5 или 1.\n",
        "\n",
        "Одним из вариантов решения данной задачи является вычисление профиля расстояния. Под **профилем расстояния** $DistProfile\\in \\mathbb{R}^{n-m+1}$ понимается вектор, содержащий расстояния между подпоследовательностями временного ряда $T \\in \\mathbb{R}^n$ и запросом $Q \\in \\mathbb{R}^m$, вычисленные с помощью некоторой неотрицательной симметричной функции расстояния $dist(\\cdot,\\cdot)$:  \n",
        "\\begin{equation}\n",
        "DistProfile(i) = dist(Q, T_{i,m}), \\quad 1 \\leqslant i \\leqslant n-m+1.\n",
        "\\end{equation}\n",
        "\n",
        "На основе вычисленного профиля расстояния в качестве $topK$ похожих подпоследовательностей ряда берутся те, которые имеют наименьшие расстояния до запроса:\n",
        "\\begin{equation}\n",
        "C_{match} = \\{T_{i,m}^k\\}_{k=1}^{topK},\\; где \\; T_{i,m}^k \\in T, \\; i = argsort(DistProfile)(k), \\; 1 \\leqslant i \\leqslant n-m+1.\n",
        "\\end{equation}\n",
        "\n",
        "В части 1 практической работы 2 вы рассмотрите несколько алгоритмов вычисления профиля расстояния на примере алгоритмов грубой силы и MASS, а также примените результаты их выполнения для решения задачи поиска по образцу. В таблице ниже представлено их тезисное описание.\n",
        "\n",
        "| <h5> **Алгоритм** </h5> | <h5> **Описание** </h5> | <h5> **Вычислительная <br> сложность** </h5> |\n",
        "|--------------|------------------------------------------------------------------|:-----------------------------:|\n",
        "| <p>Brute Force</p>  | <ul><li>Наивный алгоритм</li><li>Z-нормализация запроса и подпоследовательностей ряда по стандартным формулам</li><li>Полное вычисление расстояний между запросом и подпоследовательностями ряда</li></ul> |            <p>$O(mn)$</p>            |\n",
        "| <p>MASS 1</p>       | <ul><li>Z-нормализация &#171;на лету&#187;</li><li>Применение свертки для вычисления скалярных произведений <br> между запросом и подпоследовательностями ряда</li><li>Выполнение свертки с помощью быстрого преобразования Фурье</li><li>Дополнение справа нулями запроса и временного ряда до удвоенной длины ряда</li><li>Реверс запроса</li></ul> |          <p>$O(n\\log{n})$</p>          |\n",
        "| <p>MASS 2</p>       | <ul><li>MASS 1 – это алгоритм, на котором основан MASS 2</li><li>Вычисление половины свертки</li><li>Дополнение нулями справа только запроса до длины временного ряда</li></ul> |          <p>$O(n\\log{n})$</p>          |\n",
        "| <font size=\"3\">MASS 3</font>       | <ul><li>MASS 2 – это алгоритм, на котором основан MASS 3</li><li>Посегментная обработка временного ряда</li><li>Длина каждого сегмента (кроме, возможно, последнего) – степень двойки</li><li>Сегменты перекрываются на $m-1$ элементов</li></ul> |             <p>$O(\\frac{n-k}{k-m}k\\log{k})$, <br> где $k$ – длина сегмента </p>           |"
      ],
      "metadata": {
        "id": "gZTpYia6TO6c"
      }
    },
    {
      "cell_type": "markdown",
      "source": [
        "### **Задача 1.**\n",
        "\n",
        "В данном задании вам предстоит определить, имеет ли пациент заболевание сердца по снятой записи ЭКГ или нет. Решать данную задачу будем с помощью алгоритмов поиска по образцу.\n",
        "\n",
        "Сначала выполните считывание временного ряда и образца поиска из файлов *ECG.csv* и *ECG_query.csv* соответственно из директории *./datasets/part1*. Временной ряд представляет собой показания ЭКГ пациента, образец поиска – фрагмент ЭКГ, обозначающий некоторое кардиологическое заболевание."
      ],
      "metadata": {
        "id": "eQUZH3Ix_LNU"
      }
    },
    {
      "cell_type": "code",
      "source": [
        "ts_url = './datasets/part1/ECG.csv'\n",
        "query_url = './datasets/part1/ECG_query.csv'\n",
        "\n",
        "ts = read_ts(ts_url).reshape(-1)\n",
        "query = read_ts(query_url).reshape(-1)"
      ],
      "metadata": {
        "id": "CcvqgHFk_DIg"
      },
      "execution_count": null,
      "outputs": []
    },
    {
      "cell_type": "markdown",
      "source": [
        "Далее выполните визулизацию временного ряда и образца поиска с помощью функции `plot_bestmatch_data()` из модуля *plots.py*."
      ],
      "metadata": {
        "id": "O79mW9qO61RM"
      }
    },
    {
      "cell_type": "code",
      "source": [
        "plot_bestmatch_data(ts, query)"
      ],
      "metadata": {
        "id": "7evaiNyB9Hmy"
      },
      "execution_count": null,
      "outputs": []
    },
    {
      "cell_type": "markdown",
      "source": [
        "Реализуйте алгоритм грубой силы (brute force), заполнив одноименную функцию в модуле *distance_profile.py* недостающим кодом. Для этого воспользуйтесь псевдокодом алгоритма, который представлен ниже. После того как вычислен профиль расстояния, найдите $topK$ похожих подпоследовательностей на запрос с помощью функции `topK_match()` из *bestmatch.py*. Для исключения попадания тривиальных совпадений зададим $\\xi = 0.5$ Далее параметр $\\xi$ будем обозначать в коде как $excl\\_zone\\_frac$, а величину пересечения как $excl\\_zone$, $excl\\_zone = \\lceil excl\\_zone\\_frac \\cdot m \\rceil$,\n",
        "\n",
        "<center><img src=\"https://github.com/mzym/TimeSeriesCourse/blob/main/practice/02%20Similarity%20search/img/brute_force.png?raw=true\" width=\"400\"></center>"
      ],
      "metadata": {
        "id": "65_hyha27FGx"
      }
    },
    {
      "cell_type": "code",
      "source": [
        "topK = 2\n",
        "excl_zone_frac = 0.5\n",
        "excl_zone = math.ceil(len(query) * excl_zone_frac)\n",
        "is_normalize = True\n",
        "\n",
        "naive_bestmatch_results = {}\n",
        "\n",
        "# INSERT YOUR CODE"
      ],
      "metadata": {
        "id": "EM9XZRk-GJOa"
      },
      "execution_count": null,
      "outputs": []
    },
    {
      "cell_type": "markdown",
      "source": [
        "Напишите функцию `plot_bestmatch_results()` в модуле *plots.py* для визуализации найденных $topK$ похожих подпоследовательностей временного ряда на образец поиска. За основу возьмите функцию `plot_bestmatch_data()` и добавьте отображение найденных подпоследовательностей, выделив их тем же цветом, что и образец поиска."
      ],
      "metadata": {
        "id": "ezNz67tO7m-l"
      }
    },
    {
      "cell_type": "code",
      "source": [
        "plot_bestmatch_results(ts, query, naive_bestmatch_results)"
      ],
      "metadata": {
        "id": "ot-q7Zh6UPI1"
      },
      "execution_count": null,
      "outputs": []
    },
    {
      "cell_type": "markdown",
      "source": [
        "![equation.png](data:image/png;base64,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)\n",
        "Определите по полученным результатам, имеет ли человек сердечное заболевание или нет."
      ],
      "metadata": {
        "id": "EHx4lBRbT-1f"
      }
    },
    {
      "cell_type": "markdown",
      "source": [
        "*# WRITE YOUR ANSWER*"
      ],
      "metadata": {
        "id": "HDbec5rOUAzq"
      }
    },
    {
      "cell_type": "markdown",
      "source": [
        "### **Задача 2.**\n",
        "\n",
        "Проделайте такие же шаги для поиска по образцу, как и в задаче 1, но теперь вычислите профиль расстояния с помощью одной из выбранных вами версий алгоритма MASS. Для этого используйте стороннюю библиотеку *mass-ts*. Со списком всех функций, которые предоставляет данная библиотека, и их описанием вы можете ознакомиться в [репозитории библиотеки GitHub](https://github.com/matrix-profile-foundation/mass-ts).\n",
        "\n",
        "Обратите внимание, что MASS 2 и MASS 3 возвращают профиль расстояния в виде вектора комплексных чисел. Для дальнейшей работы с профилем расстояния используйте только вещественные части комплексных чисел.     "
      ],
      "metadata": {
        "id": "X5XwzbI867MC"
      }
    },
    {
      "cell_type": "code",
      "source": [
        "# INSERT YOUR CODE"
      ],
      "metadata": {
        "id": "8e5o2DqbVWkK"
      },
      "execution_count": null,
      "outputs": []
    },
    {
      "cell_type": "markdown",
      "source": [
        "### **Задача 3.**\n",
        "\n",
        "Проведите две серии экспериментов по сравнению быстродействия алгоритмов грубой силы и трех версий MASS:\n",
        "1. на фиксированной длине запроса $m$ при изменяемой длине временного ряда $n$;\n",
        "2. на фиксированной длине временного ряда $n$ при изменяемой длине запроса $m$.\n",
        "\n",
        "Все необходимые для проведения экспериментов функции находятся в модуле *experiments.py*.\n",
        "\n",
        "Сначала сгенерируйте по аналогии временные ряды и запросы поиска различных длин, как это было сделано в практической работе 1. Далее измерьте время выполнения алгоритмов при заданных входных параметрах и данных с помощью функции `run_experiment()`. Полученные результаты (время выполнения) каждого эксперимента отобразите на линейном графике, воспользовавшись функцией `visualize_plot_times()`.\n",
        "\n",
        "Также вычислите ускорение с помощью функции `calculate_speedup()`, показывающее, во сколько раз алгоритм MASS превосходит по времени выполнения алгоритма грубой силы, по следующей формуле:\n",
        "\\begin{equation}\n",
        "speedup = \\frac{t_{BF}}{t_{MASS}},\n",
        "\\end{equation}\n",
        "где $t_{BF}$ и $t_{MASS}$ — время работы алгоритма грубой силы и MASS соответственно.\n",
        "\n",
        "Полученные ускорения оформите в виде таблицы, для построения используйте функцию `visualize_table_speedup()`."
      ],
      "metadata": {
        "id": "5i7Uhch8VZZz"
      }
    },
    {
      "cell_type": "markdown",
      "source": [
        "Эксперимент 1"
      ],
      "metadata": {
        "id": "GOWbuMLAVj4W"
      }
    },
    {
      "cell_type": "code",
      "source": [
        "algorithms = ['brute_force', 'mass', 'mass2', 'mass3']\n",
        "algorithms_params = {\n",
        "    'brute_force': None,\n",
        "    'mass': None,\n",
        "    'mass2': None,\n",
        "    'mass3': {'segment_len': 2048},\n",
        "}\n",
        "\n",
        "n_list = [2**15, 2**16, 2**17, 2**18, 2**19, 2**20] # lengths of time series\n",
        "m = 128 # length of query\n",
        "\n",
        "exp1_params = {\n",
        "    'varying': {'n': n_list},\n",
        "    'fixed': {'m': m}\n",
        "}\n",
        "\n",
        "exp1_data = {\n",
        "    'ts': dict.fromkeys(map(str, n_list), []),\n",
        "    'query': {str(m): []}\n",
        "}\n",
        "\n",
        "task = 'distance_profile'\n",
        "\n",
        "# generate set of time series and query\n",
        "# run experiments for measurement of algorithm runtimes\n",
        "\n",
        "# INSERT YOUR CODE"
      ],
      "metadata": {
        "id": "rlBjMrt-wcBG"
      },
      "execution_count": null,
      "outputs": []
    },
    {
      "cell_type": "code",
      "source": [
        "# visualize plot with results of experiment\n",
        "comparison_param = np.array(algorithms)\n",
        "\n",
        "# INSERT YOUR CODE"
      ],
      "metadata": {
        "id": "6wKZ2fzZopN5"
      },
      "execution_count": null,
      "outputs": []
    },
    {
      "cell_type": "code",
      "source": [
        "# visualize table with speedup\n",
        "tab_index = algorithms[1:]\n",
        "tab_columns = [f\"n = {n}\" for n in n_list]\n",
        "tab_title = \"Speedup MASS relative to the brute force <br> (variable time series length, fixed query length)\"\n",
        "\n",
        "# INSERT YOUR CODE"
      ],
      "metadata": {
        "id": "KAkX6noTV6X9"
      },
      "execution_count": null,
      "outputs": []
    },
    {
      "cell_type": "markdown",
      "source": [
        "Эксперимент 2"
      ],
      "metadata": {
        "id": "H5XPO_viV-Fm"
      }
    },
    {
      "cell_type": "code",
      "source": [
        "m_list = [2**5, 2**6, 2**7, 2**8, 2**9, 2**10] # lengths of queries\n",
        "n = 2**15 # length of time series\n",
        "\n",
        "exp2_params = {\n",
        "    'varying': {'m': m_list},\n",
        "    'fixed': {'n': n}\n",
        "}\n",
        "\n",
        "exp2_data = {\n",
        "    'ts': {str(n): []},\n",
        "    'query': dict.fromkeys(map(str, m_list), [])\n",
        "}\n",
        "\n",
        "# INSERT YOUR CODE"
      ],
      "metadata": {
        "id": "hZZ5Jk7AWAQF"
      },
      "execution_count": null,
      "outputs": []
    },
    {
      "cell_type": "code",
      "source": [
        "comparison_param = np.array(algorithms)\n",
        "\n",
        "# INSERT YOUR CODE"
      ],
      "metadata": {
        "id": "sLB5n_szowlT"
      },
      "execution_count": null,
      "outputs": []
    },
    {
      "cell_type": "code",
      "source": [
        "tab_index = algorithms[1:]\n",
        "tab_columns = [f\"m = {m}\" for m in m_list]\n",
        "tab_title = \"Speedup MASS relative to the brute force <br> (variable query length, fixed time series length)\"\n",
        "\n",
        "# INSERT YOUR CODE"
      ],
      "metadata": {
        "id": "P0cMYc5jWKYH"
      },
      "execution_count": null,
      "outputs": []
    },
    {
      "cell_type": "markdown",
      "source": [
        "![equation.png](data:image/png;base64,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)\n",
        "Проанализируйте и изложите содержательный смысл полученных\n",
        "результатов."
      ],
      "metadata": {
        "id": "cDPCTjJ7F86f"
      }
    },
    {
      "cell_type": "markdown",
      "source": [
        "*# WRITE YOUR ANSWER*"
      ],
      "metadata": {
        "id": "48LIjyHcF9G-"
      }
    },
    {
      "cell_type": "markdown",
      "source": [
        "## **Часть 2.** Ускорение вычисления DTW меры техникой ограничения полосы Сако—Чиба. Наивный алгоритм поиска по образцу на основе DTW меры."
      ],
      "metadata": {
        "id": "rLjwtj6q5h1S"
      }
    },
    {
      "cell_type": "markdown",
      "source": [
        "### **Задача 4.**\n",
        "\n",
        "Поскольку DTW мера имеет квадратичную вычислительную сложность от\n",
        "длины временного ряда $O(n^2)$, то в данном задании вам предстоит реализовать технику ограничения полосы Сако–Чиба. Данная техника не позволяет отклоняться пути трансформации более чем на $r$ ячеек от диагонали матрицы трансформации и тем самым сокращает вычисление меры до $O(rn)$.\n",
        "\n",
        "Добавьте в функцию `DTW_distance()` из модуля *metrics.py* возможность ограничения полосы Сако—Чиба. Сравните результаты выполнения вашей реализации с результатами функции [`dtw_distance()`](https://www.sktime.net/en/stable/api_reference/auto_generated/sktime.distances.dtw_distance.html) из библиотеки *sktime*, задав различные значения параметра $r$ (например, от 0 до 1 с шагом 0.05).\n",
        "\n",
        "**Мера DTW с ограничением полосы Сако–Чиба** вычисляется следующим образом:\n",
        "\\begin{equation}\n",
        "\\text{DTW}(T_1, T_2) = d(n,n),\n",
        "\\\\ d(i,j) = (t_{1,i} - t_{2,j})^2 + \\min \\left\\{\n",
        "\t\\begin{array}{l l}\n",
        "\td(i-1,j), \\\\\n",
        "\td(i,j-1), \\\\\n",
        "\td(i-1,j-1),\n",
        "\t\\end{array}\n",
        "\t\\right.\n",
        "\\\\ d(0,0)=0, \\quad d(i,0)=d(0,j)=\\infty, \\quad  1 \\leqslant i,j \\leqslant n;\n",
        "\\\\ 0 \\leqslant r \\leqslant n-1, \\quad j-r \\leqslant i \\leqslant j+r,\n",
        "\\\\ d(i,j) = \\infty, \\quad j+r < i < j-r.\n",
        "\\end{equation}"
      ],
      "metadata": {
        "id": "7wX-rtvznzmW"
      }
    },
    {
      "cell_type": "code",
      "source": [
        "def test_distances(dist1: float, dist2: float) -> None:\n",
        "    \"\"\"\n",
        "    Check whether your distance function is implemented correctly\n",
        "\n",
        "    Parameters\n",
        "    ----------\n",
        "    dist1 : distance between two time series calculated by sktime\n",
        "    dist2 : distance between two time series calculated by your function\n",
        "    \"\"\"\n",
        "\n",
        "    np.testing.assert_equal(round(dist1, 5), round(dist2, 5), 'Distances are not equal')"
      ],
      "metadata": {
        "id": "GSC1DxbeREZl"
      },
      "execution_count": null,
      "outputs": []
    },
    {
      "cell_type": "code",
      "source": [
        "from sktime.distances import dtw_distance\n",
        "from modules.metrics import DTW_distance\n",
        "\n",
        "# INSERT YOUR CODE"
      ],
      "metadata": {
        "id": "J5Fg6TYpRGfm"
      },
      "execution_count": null,
      "outputs": []
    },
    {
      "cell_type": "markdown",
      "source": [
        "### **Задача 5.**\n",
        "\n",
        "Реализуйте самостоятельно наивный алгоритм поиска $topK$ подпоследовательностей временного ряда, похожих на образец поиска в смысле меры DTW. Для этого уже подготовлен шаблон класса `NaiveBestMatchFinder` в модуле *bestmatch.py*. Напишите метод `perform()`, выполняющий обнаружение подпоследовательностей ряда, похожих на образец поиска. Метод должен избегать попадания в результирующее множество пересекающихся подпоследовательностей. Для этого используйте функцию `topK_match()`. При реализации опирайтесь на псевдокод наивного алгоритма поиска, который представлен ниже.\n",
        "\n",
        "<center><img src=\"https://github.com/mzym/TimeSeriesCourse/blob/main/practice/02%20Similarity%20search/img/naive_algorithm.png?raw=true\" width=\"550\"></center>\n",
        "\n",
        "Для этой задачи используйте временной ряд и запрос ЭКГ из части 1. Если они не загружены, то выполните их считывание из соответствующих файлов."
      ],
      "metadata": {
        "id": "79O3m81VRM9i"
      }
    },
    {
      "cell_type": "code",
      "source": [
        "topK = 2\n",
        "r = 0.01\n",
        "excl_zone_frac = 0.5\n",
        "is_normalize = True\n",
        "\n",
        "naive_bestmatch_results = {}\n",
        "\n",
        "# INSERT YOUR CODE"
      ],
      "metadata": {
        "id": "qh6dWGjnRfzs"
      },
      "execution_count": null,
      "outputs": []
    },
    {
      "cell_type": "markdown",
      "source": [
        "Чтобы было легче интерпретировать результаты поиска, выполните визуализацию с помощью `plot_bestmatch_results()` из модуля *plots.py*."
      ],
      "metadata": {
        "id": "36tTUoi2RyG3"
      }
    },
    {
      "cell_type": "code",
      "source": [
        "plot_bestmatch_results(ts, query, naive_bestmatch_results)"
      ],
      "metadata": {
        "id": "8A687WTMR2lU"
      },
      "execution_count": null,
      "outputs": []
    },
    {
      "cell_type": "markdown",
      "source": [
        "### **Задача 6**.\n",
        "\n",
        "Проведите две серии экспериментов, в которых необходимо исследовать следующее:\n",
        "1. влияние длины запроса $m$ и ширины полосы Сако—Чиба $r$ на время выполнения наивного алгоритма при фиксированной длине ряда $n$;\n",
        "2. влияние длины ряда $n$ и ширины полосы Сако—Чиба $r$ на время выполнения наивного алгоритма при фиксированной длине запроса $m$.\n",
        "\n",
        "Для провдения экспериментов используйте функции из модуля *experiments.py*.\n",
        "Эксперименты проведите на синтетических временных рядах и запросах указанных длин. Полученные результаты каждого эксперимента отобразите на линейном графике."
      ],
      "metadata": {
        "id": "afNxi72mR2rY"
      }
    },
    {
      "cell_type": "markdown",
      "source": [
        "Эксперимент 1"
      ],
      "metadata": {
        "id": "bj4h7lmFSYLr"
      }
    },
    {
      "cell_type": "code",
      "source": [
        "algorithm = 'naive'\n",
        "algorithm_params = {\n",
        "    'topK': 3,\n",
        "    'excl_zone_frac': 1,\n",
        "    'is_normalize': True,\n",
        "}\n",
        "\n",
        "n_list = [2**10, 2**11, 2**12, 2**13, 2**14, 2**15] # lengths of time series\n",
        "r_list = np.round(np.arange(0, 0.6, 0.1), 2).tolist() # sizes of warping window\n",
        "m = 2**6 # length of query\n",
        "\n",
        "exp1_params = {\n",
        "    'varying': {'n': n_list,\n",
        "                'r': r_list},\n",
        "    'fixed': {'m': m}\n",
        "}\n",
        "exp1_data = {\n",
        "    'ts': dict.fromkeys(map(str, n_list), []),\n",
        "    'query': {str(m): []}\n",
        "}\n",
        "\n",
        "task = 'best_match'\n",
        "\n",
        "# generate set of time series and query\n",
        "# run experiments for measurement of algorithm runtimes\n",
        "\n",
        "# INSERT YOUR CODE"
      ],
      "metadata": {
        "id": "844hE-u5zXmF"
      },
      "execution_count": null,
      "outputs": []
    },
    {
      "cell_type": "code",
      "source": [
        "# visualize plot with results of experiment\n",
        "comparison_param = np.array(r_list)\n",
        "\n",
        "# INSERT YOUR CODE"
      ],
      "metadata": {
        "id": "NdTfg0g0pWvT"
      },
      "execution_count": null,
      "outputs": []
    },
    {
      "cell_type": "markdown",
      "source": [
        "Эксперимент 2"
      ],
      "metadata": {
        "id": "fndpoOBMR3OB"
      }
    },
    {
      "cell_type": "code",
      "source": [
        "m_list = [2**4, 2**5, 2**6, 2**7, 2**8] # lengths of query\n",
        "r_list = np.round(np.arange(0, 0.6, 0.1), 2).tolist() # sizes of warping window\n",
        "n = 2**12 # length of time series\n",
        "\n",
        "exp2_params = {\n",
        "    'varying': {'m': m_list,\n",
        "                'r': r_list},\n",
        "    'fixed': {'n': n}\n",
        "}\n",
        "exp2_data = {\n",
        "    'ts': {str(n): []},\n",
        "    'query': dict.fromkeys(map(str, m_list), []),\n",
        "}\n",
        "\n",
        "# INSERT YOUR CODE"
      ],
      "metadata": {
        "id": "C9Uh9kYER2x0"
      },
      "execution_count": null,
      "outputs": []
    },
    {
      "cell_type": "code",
      "source": [
        "comparison_param = np.array(r_list)\n",
        "\n",
        "# INSERT YOUR CODE"
      ],
      "metadata": {
        "id": "M1JGjIJOpu9E"
      },
      "execution_count": null,
      "outputs": []
    },
    {
      "cell_type": "markdown",
      "source": [
        "![equation.png](data:image/png;base64,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)\n",
        "Проанализируйте и изложите содержательный смысл полученных\n",
        "результатов."
      ],
      "metadata": {
        "id": "qPGthdr0R3cq"
      }
    },
    {
      "cell_type": "markdown",
      "source": [
        "*# WRITE YOUR ANSWER*"
      ],
      "metadata": {
        "id": "w1UWIAOhLLYE"
      }
    },
    {
      "cell_type": "markdown",
      "source": [
        "## **Часть 3.** Алгоритм UCR-DTW.\n",
        "\n",
        "Третья часть практической работы посвящена алгоритму UCR-DTW, который использует нижние границы схожести $\\text{LB}_{\\text{Kim}}\\text{FL}$, $\\text{LB}_{\\text{Keogh}}\\text{EQ}$ и $\\text{LB}_{\\text{Keogh}}\\text{EC}$, применяющиеся каскадным образом. Псевдокод алгоритма UCR-DTW представлен ниже.\n",
        "\n",
        "<center><img src=\"https://github.com/mzym/TimeSeriesCourse/blob/main/practice/02%20Similarity%20search/img/ucr_dtw.png?raw=true\" width=\"650\"></center>\n",
        "\n",
        "**Нижняя граница схожести (lower bound, LB)** представляет собой функцию, вычислительная сложность которой меньше вычислительной сложности меры DTW. Нижняя граница используется для отбрасывания кандидатов (подпоследовательностей временного ряда), заведомо не похожих на запрос, без вычисления меры DTW.\n",
        "\n",
        "Нижние границы между кандидатом\n",
        "$C$ и запросом $Q$ длины $n$, применяемые в UCR-DTW, вычисляются следующим образом:\n",
        "<ul>\n",
        "<li><b>Нижняя граница $\\text{LB}_{\\text{Kim}}\\text{FL}$</b> определяется как сумма квадратов разностей между первыми и последними точками запроса $Q$ и\n",
        "подпоследовательности $C$:\n",
        "\\begin{equation}\n",
        "    \\text{LB}_{\\text{Kim}}\\text{FL}(Q, C) = (q_1 - c_1)^2 + (q_n - c_n)^2.\n",
        "\\end{equation}\n",
        "</li>\n",
        "\n",
        "<li><b>Нижняя граница $\\text{LB}_{\\text{Keogh}}\\text{EQ}$</b> показывает расстояние между верхней или нижней оболочкой $U$ и $L$, построенными вокруг запроса $Q$, и кандидатом $C$:\n",
        "\\begin{equation}\n",
        "    \\text{LB}_{\\text{Keogh}}\\text{EQ}(Q,C) = \\sum_{i=1}^n{\\left\\{\n",
        "            \\begin{array}{cl}\n",
        "            (c_i - u_i)^2, & \\text{if} \\; c_i > u_i \\\\\n",
        "            (c_i - l_i)^2, & \\text{if} \\; c_i < l_i\\\\\n",
        "            0, & \\text{otherwise}.\n",
        "            \\end{array}\n",
        "            \\right.}\n",
        "\\end{equation}\n",
        "\n",
        "Нижней и верхней оболочкой (lower and upper envelope) запроса $Q$ называют соответственно последовательности $L = (l_1,..., l_n)$ и $U = (u_1,..., u_n)$, вычисляемые как минимумы и максимумы запроса в скользящем окне заданной длины $r$ ($1 < r < m$):\n",
        "\\begin{equation}\n",
        "    u_i = \\max_{\\max(1,i-r) \\leqslant k \\leqslant \\min(m, i+r)} q_{k}, \\\\\n",
        "    l_i = \\min_{\\max(1,i-r) \\leqslant k \\leqslant \\min(m, i+r)} q_{k},\n",
        "\\end{equation}\n",
        "где $r$ – ширина полосы Сако–Чиба.\n",
        "</li>\n",
        "\n",
        "<li><b>Нижняя граница $\\text{LB}_{\\text{Keogh}}\\text{EC}$</b> представляет собой расстояние между запросом $Q$ и оболочкой кандидата $C$, т.е. является реверс-версией нижней границы $\\text{LB}_{\\text{Keogh}}\\text{EQ}$:\n",
        "\\begin{equation}\n",
        "    \\text{LB}_{\\text{Keogh}}\\text{EC}(Q,C) = \\text{LB}_{\\text{Keogh}}\\text{EQ}(C, Q).\n",
        "\\end{equation}\n",
        "</li>\n",
        "</ul>"
      ],
      "metadata": {
        "id": "qLknW-6QbxZN"
      }
    },
    {
      "cell_type": "markdown",
      "source": [
        "### **Задача 7.**\n",
        "  \n",
        "Реализуйте технику каскадного применения нижних границ и сами нижние границы,  заполнив пропуски в классе `UCR_DTW`, в модуле *bestmatch.py*.\n",
        "Выполните алгоритм UCR-DTW на данных ЭКГ из предыдущих частей, задав такие же значения входных параметров, что и для наивного алгоритма из части 2, и визуализируйте результаты. Убедитесь, что результаты UCR-DTW совпадают с результатами наивного алгоритма."
      ],
      "metadata": {
        "id": "YyOAHK2sGuHS"
      }
    },
    {
      "cell_type": "code",
      "source": [
        "top_k = 2\n",
        "r = 0.01\n",
        "excl_zone_frac = 1\n",
        "is_normalize = True\n",
        "\n",
        "ucr_dtw_results = {}\n",
        "\n",
        "# INSERT YOUR CODE"
      ],
      "metadata": {
        "id": "xifzxtl1G1Kb"
      },
      "execution_count": null,
      "outputs": []
    },
    {
      "cell_type": "markdown",
      "source": [
        "Визуализируйте количество неотброшенных и отброшенных каждой нижней границей подпоследовательностей временного ряда в виде круговой диаграммы с помощью функции `pie_chart()` из модуля *plots.py*."
      ],
      "metadata": {
        "id": "1j8hUNGqG7_K"
      }
    },
    {
      "cell_type": "code",
      "source": [
        "# INSERT YOUR CODE"
      ],
      "metadata": {
        "id": "CvDoTKakHO1n"
      },
      "execution_count": null,
      "outputs": []
    },
    {
      "cell_type": "markdown",
      "source": [
        "### **Задача 8.**\n",
        "\n",
        "Проведите эксперименты, аналогичные тем, которые выполнялись для исследования эффективности наивного алгоритма в задаче 6. Постройте графики и вычислите ускорение алгоритма UCR-DTW относительно наивного алгоритма. Для справедливого сравнения алгоритмов используйте сгенерированные временные ряды и запросы из задачи 6."
      ],
      "metadata": {
        "id": "yMBrrQIGIG41"
      }
    },
    {
      "cell_type": "markdown",
      "source": [
        "Эксперимент 1"
      ],
      "metadata": {
        "id": "AHVSwkGOJ_Wn"
      }
    },
    {
      "cell_type": "code",
      "source": [
        "algorithm = 'ucr-dtw'\n",
        "algorithm_params = {\n",
        "    'topK': 3,\n",
        "    'excl_zone_frac': 1,\n",
        "    'is_normalize': True,\n",
        "}\n",
        "\n",
        "n_list = [2**10, 2**11, 2**12, 2**13, 2**14, 2**15] # lengths of time series\n",
        "r_list = np.round(np.arange(0, 0.6, 0.1), 2).tolist() # sizes of warping window\n",
        "m = 2**6 # length of query\n",
        "\n",
        "exp1_params = {\n",
        "    'varying': {'n': n_list,\n",
        "                'r': r_list},\n",
        "    'fixed': {'m': m}\n",
        "}\n",
        "exp1_data = {\n",
        "    'ts': dict.fromkeys(map(str, n_list), []),\n",
        "    'query': {str(m): []}\n",
        "}\n",
        "\n",
        "task = 'best_match'\n",
        "\n",
        "# generate set of time series and query\n",
        "# run experiments for measurement of algorithm runtimes\n",
        "\n",
        "# INSERT YOUR CODE"
      ],
      "metadata": {
        "id": "-jFvyr3m0SXO"
      },
      "execution_count": null,
      "outputs": []
    },
    {
      "cell_type": "code",
      "source": [
        "#visualize plot with results of experiment\n",
        "comparison_param = np.array(r_list)\n",
        "\n",
        "# INSERT YOUR CODE"
      ],
      "metadata": {
        "id": "9g_YLPtqpkIN"
      },
      "execution_count": null,
      "outputs": []
    },
    {
      "cell_type": "code",
      "source": [
        "# visualize table with speedup\n",
        "tab_index = [f\"n = {n}\" for n in n_list]\n",
        "tab_columns = [f\"r = {r}\" for r in r_list]\n",
        "tab_title = \"Speedup UCR-DTW relative to the naive algorithm <br> (variable time series length and warping path size, fixed query length)\"\n",
        "\n",
        "# INSERT YOUR CODE"
      ],
      "metadata": {
        "id": "eceQ2DqFJMCQ"
      },
      "execution_count": null,
      "outputs": []
    },
    {
      "cell_type": "markdown",
      "source": [
        "Эксперимент 2"
      ],
      "metadata": {
        "id": "-ahl7EPgJ7U9"
      }
    },
    {
      "cell_type": "code",
      "source": [
        "m_list = [2**4, 2**5, 2**6, 2**7, 2**8] # lengths of query\n",
        "r_list = np.round(np.arange(0, 0.6, 0.1), 2).tolist() # sizes of warping window\n",
        "n = 2**12 # length of time series\n",
        "\n",
        "exp_params = {\n",
        "    'varying': {'m': m_list,\n",
        "                'r': r_list},\n",
        "    'fixed': {'n': n}\n",
        "}\n",
        "data = {\n",
        "    'ts': {str(n): []},\n",
        "    'query': dict.fromkeys(map(str, m_list), []),\n",
        "}\n",
        "\n",
        "# INSERT YOUR CODE"
      ],
      "metadata": {
        "id": "uwYSqQEa0d1C"
      },
      "execution_count": null,
      "outputs": []
    },
    {
      "cell_type": "code",
      "source": [
        "comparison_param = np.array(r_list)\n",
        "\n",
        "# INSERT YOUR CODE"
      ],
      "metadata": {
        "id": "TDbP4WWlplAi"
      },
      "execution_count": null,
      "outputs": []
    },
    {
      "cell_type": "code",
      "source": [
        "tab_index = [f\"m = {m}\" for m in m_list]\n",
        "tab_columns = [f\"r = {r}\" for r in r_list]\n",
        "tab_title = \"Speedup UCR-DTW relative to the naive algorithm <br> (variable query length and warping path size, fixed time series length)\"\n",
        "\n",
        "# INSERT YOUR CODE"
      ],
      "metadata": {
        "id": "OaUXmsV8IxAB"
      },
      "execution_count": null,
      "outputs": []
    },
    {
      "cell_type": "markdown",
      "source": [
        "![equation.png](data:image/png;base64,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)\n",
        "Проанализируйте и изложите содержательный смысл полученных\n",
        "результатов."
      ],
      "metadata": {
        "id": "d7uYZir1JLJi"
      }
    },
    {
      "cell_type": "markdown",
      "source": [
        "*# WRITE YOUR ANSWER*"
      ],
      "metadata": {
        "id": "_e2qnLfU9e1W"
      }
    },
    {
      "cell_type": "markdown",
      "source": [
        "### **Задача 9.**\n",
        "\n",
        "В данном задании вам предстоит определелить, какую функцию расстояния ED или DTW лучше всего использовать на практике для поиска наиболее похожих подпоследовательностей временного ряда на запрос. Чтобы это сделать, рассмотрим две задачи из различных предметных областей, решить которые предлагается с помощью алгоритмов поиска по образцу.\n",
        "\n",
        "Начнем с **первой задачи из области физиологии человека**. На человеке сначала закрепляют множество акселерометров и гироскопов, после чего он выполняет в помещении последовательность заранее определенных действий (активностей) в течение некоторого промежутка времени. Примерами таких активностей являются открывание/закрывание дверей, включение/выключение света, питье из чашки стоя/сидя и др. В то время как человек выполняет эти активности, датчики фиксируют его скорость и направление наклона тела. Задача дата-сайентиста заключается в том, что необходимо распознать в снятых данных все активности, которые выполнял человек.  \n",
        "\n",
        "Данную задачу упростим, и будем выполнять поиск только одной активности во временном ряде при условии, что у нас имеется образец этой активности. В качестве данных возьмем временной ряд показаний гироскопа, закрепленного на правом запятье руки человека, из набора данных [Opportunity](https://archive.ics.uci.edu/dataset/226/opportunity+activity+recognition) и образец искомой активности, питья из чашки стоя. Данный ряд соответствует примерно 14-минутной записи.\n",
        "\n",
        "Загрузите временной ряд и образец поиска из директории `./datasets/part3/Opportunity` в ноутбук.    "
      ],
      "metadata": {
        "id": "mza7NVIBKm7o"
      }
    },
    {
      "cell_type": "code",
      "source": [
        "# INSERT YOUR CODE"
      ],
      "metadata": {
        "id": "buXZPR1xKmSP"
      },
      "execution_count": null,
      "outputs": []
    },
    {
      "cell_type": "markdown",
      "source": [
        "Выполните поиск похожих подпоследовательностей на запрос с помощью реализованных вами ранее алгоритмов MASS и UCR-DTW. Согласно истинной разметке, искомую активность человек выполнял 7 раз, поэтому параметр $topK=7$."
      ],
      "metadata": {
        "id": "Zj1vvjS2LbE1"
      }
    },
    {
      "cell_type": "code",
      "source": [
        "topK = 7\n",
        "r = 0.1\n",
        "excl_zone_frac = 1\n",
        "is_normalize = True\n",
        "\n",
        "# INSERT YOUR CODE"
      ],
      "metadata": {
        "id": "02W5Sw_zLbXr"
      },
      "execution_count": null,
      "outputs": []
    },
    {
      "cell_type": "markdown",
      "source": [
        "Чтобы оценить качество распознавания активности, загрузите имеющуюся истинную разметку, хранящуюся в файле *labels.csv*. В разметке значением 1 обозначаются моменты времени, когда человек пил из чашки стоя, и значением 0 – в противном случае. Вычислите среди найденных $topK$ подпоследовательностей количество TP (True Positive) и FN (False Negative) с помощью функции `calculate_task1_accuracy()` и сравните между собой показатели, полученные с помощью MASS и UCR-DTW."
      ],
      "metadata": {
        "id": "sWnpk5egLbeK"
      }
    },
    {
      "cell_type": "code",
      "source": [
        "def calculate_task1_accuracy(labels: np.array, predicted_results: np.array) -> dict:\n",
        "    \"\"\"\n",
        "    Calculate the accuracy of the algorithm which performs the activity recognition\n",
        "\n",
        "    Parameters\n",
        "    ----------\n",
        "    labels: true labels\n",
        "    predicted_results: results are predicted by algorithm\n",
        "\n",
        "    Returns\n",
        "    -------\n",
        "        The number of True Positive and False Negative examples\n",
        "    \"\"\"\n",
        "\n",
        "    TP = 0\n",
        "    FN = 0\n",
        "\n",
        "    topK = len(predicted_results['indices'])\n",
        "\n",
        "    for i in range(topK):\n",
        "        idx = predicted_results['indices'][i]\n",
        "        if (labels[idx] == 1):\n",
        "            TP = TP + 1\n",
        "\n",
        "    FN = topK - TP\n",
        "\n",
        "    return {'TP': TP,\n",
        "            'FN': FN}"
      ],
      "metadata": {
        "id": "BiAQO1SDMLxQ"
      },
      "execution_count": null,
      "outputs": []
    },
    {
      "cell_type": "code",
      "source": [
        "# INSERT YOUR CODE"
      ],
      "metadata": {
        "id": "8WERGe60LbjP"
      },
      "execution_count": null,
      "outputs": []
    },
    {
      "cell_type": "markdown",
      "source": [
        "Итоговый вывод о преимуществе одной функции расстояния над другой в задаче поиска по образцу на данный момент делать еще рано, поэтому решим **вторую задачу из области транспорта**. Данная задача заключается в прогнозировании потока пешеходов в некоторой точке города на основе прошлых данных.\n",
        "\n",
        "Прогнозирование ряда $T$ длины $n$ будем выполнять следующим образом. Сначала сформируем запрос $Q$, состоящий из $m$ последних по времени элементов ряда, $Q = T_{n-m+1,m}$. Далее среди всех подпоследовательностей ряда $T$, начинающихся с 1 до $n-2m$ позиций, найдем $topK$ похожих на запрос $Q$. Обозначим за $h > 0$ горизонт прогнозирования, определяющий количество элементов ряда, значения которых необходимо спрогнозировать. Для нахождения будущих значений будем брать $h$ элементов ряда, которые следуют за концевыми точками найденных похожих подпоследовательностей. В итоге, будущие значения будут получаться путем применения агрегатной функции к этим элементам. В качестве агрегатной функции может использоваться среднее арифметическое, взвешенное среднее, медиана и др.\n",
        "\n",
        "Загрузите временной ряд из файла *pedestrian_count.csv*, расположенного в директории *./datasets/part3/Melbourne*. Данный ряд содержит почасовую статистику о количестве пешеходов на улице Бурке в Мельбурне (Австралия), являющейся одной из главных улиц города. Данные собраны за период с 1 марта 2020 по 31 октября 2022 гг. Полный набор данных и его детальное описание доступны по следующей [ссылке](https://data.melbourne.vic.gov.au/explore/dataset/pedestrian-counting-system-monthly-counts-per-hour/information/)."
      ],
      "metadata": {
        "id": "B22pE5hOLboG"
      }
    },
    {
      "cell_type": "code",
      "source": [
        "data_path = './datasets/part3/Melbourne/pedestrian_count.csv'\n",
        "\n",
        "data = pd.read_csv(data_path, header=0)"
      ],
      "metadata": {
        "id": "l9ZRT3e7LbtI"
      },
      "execution_count": null,
      "outputs": []
    },
    {
      "cell_type": "markdown",
      "source": [
        "Реализуйте алгоритм прогнозирования временного ряда на основе UCR-DTW и MASS, следуя приведенному выше описанию. За прогнозирование отвечает класс `BestMatchPredictor` из модуля *prediction.py*, дополните его недостающим кодом.  \n",
        "\n",
        "Далее выполните прогнозирование потока людей для исходных данных на 1 день вперед (24 значения). Для этого установите следующие входные параметры:\n",
        "<ul>\n",
        "  <li>$h = 24$ (горизонт прогнозирования);</li>\n",
        "  <li>$m = 168$ (длина запроса и подпоследовательностей, соответствующая 1 неделе);</li>\n",
        "  <li>$aggr\\_func = \\text{'average'}$ (агрегатная функция);</li>\n",
        "  <li>для алгоритма UCR-DTW:\n",
        "    <ul>\n",
        "      <li>$topK = 5$ (количество похожих подпоследовательностей на запрос);</li>\n",
        "      <li>$r = 0.1$ (ширина полосы Сако–Чиба);</li>\n",
        "      <li>$excl\\_zone\\_frac = 1$ (доля от длины подпоследовательностей, на основе которой определяется, являются ли подпоследоватлеьности тривиальными совпадениями);</li>\n",
        "      <li>$is\\_normalize = True$ ($z$-нормализация запроса и подпоследовательностей);</li>\n",
        "    </ul>\n",
        "  </li>\n",
        "  <li>для алгоритма MASS:</li>\n",
        "    <ul>\n",
        "      <li>$topK = 5$ (количество похожих подпоследовательностей на запрос);</li>\n",
        "      <li>$excl\\_zone\\_frac = 1$ (доля от длины подпоследовательностей, на основе которой определяется, являются ли подпоследоватлеьности тривиальными совпадениями).</li>\n",
        "    </ul>\n",
        "</ul>\n",
        "\n",
        "Будем считать, что последние $h$ значений в загруженном временном ряде $T$ длины $n$ отсутствуют. Поэтому перед тем как находить прогнозные значения,  подготовьте данные. Разделите загруженный временной ряд $T$ на три части:\n",
        "<ol>\n",
        "  <li>ряд $T_{train}$, в котором будет выполняться поиск похожих подпоследовательностей на запрос $Q$: $T_{train} = T[0:(n-m-h)]$</li>\n",
        "  <li>запрос $Q$: $Q = T[(n-m-h) : (n-h)]$</li>\n",
        "  <li>реальные значения ряда $real\\_values$, которые необходимо спрогнозировать: $real\\_values = T[-h:] $</li>\n",
        "</ol>"
      ],
      "metadata": {
        "id": "tp6lalDuLbxc"
      }
    },
    {
      "cell_type": "code",
      "source": [
        "ucr_dtw_params = {\n",
        "    'topK': # INSERT VALUE,\n",
        "    'r': # INSERT VALUE,\n",
        "    'excl_zone_frac': # INSERT VALUE,\n",
        "    'is_normalize': # INSERT VALUE\n",
        "}\n",
        "\n",
        "# INSERT YOUR CODE"
      ],
      "metadata": {
        "id": "UxzzgpvOP9FU"
      },
      "execution_count": null,
      "outputs": []
    },
    {
      "cell_type": "code",
      "source": [
        "mass_params = {\n",
        "    'topK': # INSERT VALUE,\n",
        "    'excl_zone_frac': # INSERT VALUE\n",
        "}\n",
        "\n",
        "# INSERT YOUR CODE"
      ],
      "metadata": {
        "id": "PZpmc9lhP_rq"
      },
      "execution_count": null,
      "outputs": []
    },
    {
      "cell_type": "markdown",
      "source": [
        "Далее выполните сравнение эффективности алгоритма при UCR-DTW и MASS по точности прогнозирования. Для оценки точности используйте **меру\n",
        "среднеквадратичной ошибки RMSE (Root Mean Square Error)**, которая определяется следующим образом:\n",
        "\\begin{equation}\n",
        "RMSE = \\sqrt{\\frac{1}{h}\\sum_{i=1}^h{(t_i-\\tilde{t}_i)}^2},\n",
        "\\end{equation}\n",
        "где $t_i$ и $\\tilde{t}_i$ — фактическое и прогнозное значения элемента ряда, $h$ — количество прогнозных элементов временного ряда."
      ],
      "metadata": {
        "id": "5QeOFSuAO0m_"
      }
    },
    {
      "cell_type": "code",
      "source": [
        "from sklearn.metrics import mean_squared_error\n",
        "\n",
        "# INSERT YOUR CODE"
      ],
      "metadata": {
        "id": "o6CWLkibO0s4"
      },
      "execution_count": null,
      "outputs": []
    },
    {
      "cell_type": "markdown",
      "source": [
        "![equation.png](data:image/png;base64,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) Сделайте вывод о влиянии функции расстояния ED и DTW на точность решения задач интеллектульного анализа данных, которые основаны на алгоритмах поиска по образцу.  "
      ],
      "metadata": {
        "id": "sOTIGbhSO0xZ"
      }
    },
    {
      "cell_type": "markdown",
      "source": [
        "*# WRITE YOUR ANSWER*"
      ],
      "metadata": {
        "id": "CpNKtCw2O06_"
      }
    }
  ]
}